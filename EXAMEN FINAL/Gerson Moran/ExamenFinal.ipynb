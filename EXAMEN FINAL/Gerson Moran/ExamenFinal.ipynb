{
 "cells": [
  {
   "cell_type": "code",
   "execution_count": null,
   "id": "01c10868",
   "metadata": {},
   "outputs": [
    {
     "name": "stdout",
     "output_type": "stream",
     "text": [
      "   ID  Reason for Absence        Date  Transportation Expense  \\\n",
      "0  11                  26  07/07/2015                     289   \n",
      "1  36                   0  14/07/2015                     118   \n",
      "2   3                  23  15/07/2015                     179   \n",
      "3   7                   7  16/07/2015                     279   \n",
      "4  11                  23  23/07/2015                     289   \n",
      "\n",
      "   Distance to Work  Age  Daily Work Load Average  Body Mass Index  Education  \\\n",
      "0                36   33                  239.554               30          1   \n",
      "1                13   50                  239.554               31          1   \n",
      "2                51   38                  239.554               31          1   \n",
      "3                 5   39                  239.554               24          1   \n",
      "4                36   33                  239.554               30          1   \n",
      "\n",
      "   Children  Pets  Absenteeism Time in Hours  \n",
      "0         2     1                          4  \n",
      "1         1     0                          0  \n",
      "2         0     0                          2  \n",
      "3         2     0                          4  \n",
      "4         2     1                          2  \n"
     ]
    }
   ],
   "source": [
    "import pandas as pd\n",
    "raw_csv_data = pd.read_csv(\"Absenteeism-data.csv\")\n",
    "df = raw_csv_data.copy()\n"
   ]
  },
  {
   "cell_type": "code",
   "execution_count": null,
   "id": "566ac74d",
   "metadata": {},
   "outputs": [],
   "source": [
    "df = raw_csv_data.copy()\n",
    "df = df.drop(['ID'], axis = 1)\n",
    "print(df.head())"
   ]
  }
 ],
 "metadata": {
  "kernelspec": {
   "display_name": "menv",
   "language": "python",
   "name": "python3"
  },
  "language_info": {
   "codemirror_mode": {
    "name": "ipython",
    "version": 3
   },
   "file_extension": ".py",
   "mimetype": "text/x-python",
   "name": "python",
   "nbconvert_exporter": "python",
   "pygments_lexer": "ipython3",
   "version": "3.11.9"
  }
 },
 "nbformat": 4,
 "nbformat_minor": 5
}
