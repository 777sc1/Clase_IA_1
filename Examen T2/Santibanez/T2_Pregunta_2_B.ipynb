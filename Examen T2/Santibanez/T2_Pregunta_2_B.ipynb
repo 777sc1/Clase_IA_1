{
 "cells": [
  {
   "cell_type": "code",
   "execution_count": null,
   "id": "bee21950",
   "metadata": {},
   "outputs": [],
   "source": [
    "# OJO Mostramos las 5 pirmeras filas para poder ver bien el reporte\n",
    "import pandas as pd\n",
    "import numpy as np"
   ]
  },
  {
   "cell_type": "code",
   "execution_count": null,
   "id": "1993ce79",
   "metadata": {},
   "outputs": [],
   "source": [
    "# 1 Carga del dataset: Leer el CSV en un DataFrame.\n",
    "df = pd.read_csv('results.csv')"
   ]
  },
  {
   "cell_type": "code",
   "execution_count": null,
   "id": "fe52b588",
   "metadata": {},
   "outputs": [],
   "source": [
    "# Separamos por año y tipo\n",
    "df[['Año', 'Tipo']] = df['Games'].str.extract(r'(\\d{4})\\s+(.*)')\n",
    "df.head(5)"
   ]
  },
  {
   "cell_type": "code",
   "execution_count": null,
   "id": "bc19838e",
   "metadata": {},
   "outputs": [],
   "source": [
    "# SEparamos Tied de pos\n",
    "df['Tied'] = df['Pos'].astype(str).str.contains('=').astype(int)\n",
    "df['Pos'] = df['Pos'].str.extract(r'(\\d+)')\n",
    "df['Pos'] = pd.to_numeric(df['Pos'], errors='coerce')\n",
    "df.head(5)"
   ]
  },
  {
   "cell_type": "code",
   "execution_count": null,
   "id": "6c150a9d",
   "metadata": {},
   "outputs": [],
   "source": [
    "# Eiminamosn unmamed\n",
    "df = df.loc[:, ~df.columns.str.contains('^Unnamed')]\n",
    "df.head(5)"
   ]
  },
  {
   "cell_type": "code",
   "execution_count": null,
   "id": "0727ccf6",
   "metadata": {},
   "outputs": [],
   "source": [
    "# Como no indica lo ordenamos las columas por año\n",
    "df = df.sort_values(by=['Año'], ascending=[True]).reset_index(drop=True)\n",
    "df.head(5)"
   ]
  },
  {
   "cell_type": "code",
   "execution_count": null,
   "id": "5d2413fb",
   "metadata": {},
   "outputs": [],
   "source": [
    "# Actualizamos el csv\n",
    "df.to_csv('results.csv')"
   ]
  }
 ],
 "metadata": {
  "kernelspec": {
   "display_name": "menv",
   "language": "python",
   "name": "python3"
  },
  "language_info": {
   "codemirror_mode": {
    "name": "ipython",
    "version": 3
   },
   "file_extension": ".py",
   "mimetype": "text/x-python",
   "name": "python",
   "nbconvert_exporter": "python",
   "pygments_lexer": "ipython3",
   "version": "3.12.7"
  }
 },
 "nbformat": 4,
 "nbformat_minor": 5
}
