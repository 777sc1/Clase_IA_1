{
 "cells": [
  {
   "cell_type": "code",
   "execution_count": null,
   "id": "bee21950",
   "metadata": {},
   "outputs": [],
   "source": [
    "# OJO Mostramos las 5 pirmeras filas para poder ver bien el reporte\n",
    "import pandas as pd\n",
    "import numpy as np"
   ]
  },
  {
   "cell_type": "code",
   "execution_count": null,
   "id": "1993ce79",
   "metadata": {},
   "outputs": [],
   "source": [
    "# 1 Carga del dataset: Leer el CSV en un DataFrame.\n",
    "df = pd.read_csv('bios.csv')\n",
    "print(df.head(5))"
   ]
  },
  {
   "cell_type": "code",
   "execution_count": null,
   "id": "b6d71441",
   "metadata": {},
   "outputs": [],
   "source": [
    "# 1. Eliminar viñetas (•) en la columna Used Names.\n",
    "df['Used name'] = df['Used name'].str.replace('•', ' ', regex=False)\n",
    "df.head(5)"
   ]
  },
  {
   "cell_type": "code",
   "execution_count": null,
   "id": "fe52b588",
   "metadata": {},
   "outputs": [],
   "source": [
    "# Separar por Altura y Peso\n",
    "df[['Height', 'Weight']] = df['Measurements'].str.extract(r'(\\d+\\s*cm)\\s*/\\s*(\\d+\\s*kg)')\n",
    "df.head(5)\n"
   ]
  },
  {
   "cell_type": "code",
   "execution_count": null,
   "id": "36d09ba1",
   "metadata": {},
   "outputs": [],
   "source": [
    "# Extraer fecha columna Born y Died\n",
    "df['Birth Date'] = df['Born'].str.extract(r'^([\\d]{1,2}\\s+\\w+\\s+\\d{4})')\n",
    "df['Died Date'] = df['Died'].str.extract(r'^([\\d]{1,2}\\s+\\w+\\s+\\d{4})')\n",
    "df.head(5)"
   ]
  },
  {
   "cell_type": "code",
   "execution_count": null,
   "id": "bc19838e",
   "metadata": {},
   "outputs": [],
   "source": [
    "# Extraer Ciudad, Born Region, Born Country\n",
    "df[['Born City', 'Born Region', 'Born Country']] = df['Born'].str.extract(\n",
    "    r'in\\s+([^,]+),\\s+([^(]+)\\s+\\(([^)]+)\\)'\n",
    ")\n",
    "df.head(5)"
   ]
  },
  {
   "cell_type": "code",
   "execution_count": null,
   "id": "6c150a9d",
   "metadata": {},
   "outputs": [],
   "source": [
    "# Eliminado las columnas de donde sacamos los datos\n",
    "df = df.drop(['Measurements', 'Born', 'Died'], axis=1)\n",
    "df.head(5)"
   ]
  },
  {
   "cell_type": "code",
   "execution_count": null,
   "id": "0727ccf6",
   "metadata": {},
   "outputs": [],
   "source": [
    "# Guadamos con el mismo nombre\n",
    "df.to_csv('bios.csv')"
   ]
  }
 ],
 "metadata": {
  "kernelspec": {
   "display_name": "menv",
   "language": "python",
   "name": "python3"
  },
  "language_info": {
   "codemirror_mode": {
    "name": "ipython",
    "version": 3
   },
   "file_extension": ".py",
   "mimetype": "text/x-python",
   "name": "python",
   "nbconvert_exporter": "python",
   "pygments_lexer": "ipython3",
   "version": "3.12.7"
  }
 },
 "nbformat": 4,
 "nbformat_minor": 5
}
