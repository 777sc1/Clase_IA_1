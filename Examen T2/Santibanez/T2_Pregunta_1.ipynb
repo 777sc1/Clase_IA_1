{
 "cells": [
  {
   "cell_type": "code",
   "execution_count": 8,
   "id": "bee21950",
   "metadata": {},
   "outputs": [],
   "source": [
    "import pandas as pd\n",
    "import numpy as np"
   ]
  },
  {
   "cell_type": "code",
   "execution_count": 66,
   "id": "1993ce79",
   "metadata": {},
   "outputs": [
    {
     "name": "stdout",
     "output_type": "stream",
     "text": [
      "     Unnamed: 0                       Movie Name Year of Release  Watch Time  \\\n",
      "0             0         The Shawshank Redemption            1994         142   \n",
      "1             1                    The Godfather            1972         175   \n",
      "2             2                  The Dark Knight            2008         152   \n",
      "3             3                 Schindler's List            1993         195   \n",
      "4             4                     12 Angry Men            1957          96   \n",
      "..          ...                              ...             ...         ...   \n",
      "995         995                        Philomena            2013          98   \n",
      "996         996  Un long dimanche de fiançailles            2004         133   \n",
      "997         997                            Shine            1996         105   \n",
      "998         998                The Invisible Man            1933          71   \n",
      "999         999                        Celda 211            2009         113   \n",
      "\n",
      "     Movie Rating  Metascore of movie   Gross      Votes  \\\n",
      "0             9.3                82.0   28.34  27,77,378   \n",
      "1             9.2               100.0  134.97  19,33,588   \n",
      "2             9.0                84.0  534.86  27,54,087   \n",
      "3             9.0                95.0    96.9  13,97,886   \n",
      "4             9.0                97.0    4.36   8,24,211   \n",
      "..            ...                 ...     ...        ...   \n",
      "995           7.6                77.0   37.71   1,02,336   \n",
      "996           7.6                76.0    6.17     75,004   \n",
      "997           7.6                87.0   35.81     55,589   \n",
      "998           7.6                87.0     NaN     37,822   \n",
      "999           7.6                 NaN     NaN     69,464   \n",
      "\n",
      "                                           Description  \n",
      "0    Over the course of several years, two convicts...  \n",
      "1    Don Vito Corleone, head of a mafia family, dec...  \n",
      "2    When the menace known as the Joker wreaks havo...  \n",
      "3    In German-occupied Poland during World War II,...  \n",
      "4    The jury in a New York City murder trial is fr...  \n",
      "..                                                 ...  \n",
      "995  A world-weary political journalist picks up th...  \n",
      "996  Tells the story of a young woman's relentless ...  \n",
      "997  Pianist David Helfgott, driven by his father a...  \n",
      "998  A scientist finds a way of becoming invisible,...  \n",
      "999  The story of two men on different sides of a p...  \n",
      "\n",
      "[1000 rows x 9 columns]\n"
     ]
    }
   ],
   "source": [
    "# 1 Carga del dataset: Leer el CSV en un DataFrame.\n",
    "df = pd.read_csv('Top_1000_IMDb_movies_New_version.csv')\n",
    "print(df)"
   ]
  },
  {
   "cell_type": "code",
   "execution_count": null,
   "id": "b6d71441",
   "metadata": {},
   "outputs": [],
   "source": [
    "# 1. Carga del dataset: o\tMostrar las primeras 5 filas y un resumen con .info() y .describe().\n",
    "print(df.head(5))\n",
    "print(df.info())\n",
    "print(df.describe())"
   ]
  },
  {
   "cell_type": "code",
   "execution_count": null,
   "id": "fe52b588",
   "metadata": {},
   "outputs": [],
   "source": [
    "# 2. Limpieza y estructura: Identificar valores nulos y decidir si se imputan o eliminan.\n",
    "valores_nulos = df.isnull().sum()\n",
    "print(f\"Valores nulos = {valores_nulos}\")\n",
    "df = df.dropna()"
   ]
  },
  {
   "cell_type": "code",
   "execution_count": null,
   "id": "36d09ba1",
   "metadata": {},
   "outputs": [],
   "source": [
    "# 2.\tLimpieza y estructura\n",
    "# En los años se pasa a string, porque algunos tienen formato \"I 2023 o II 2024\", luego se extrae el numero y se convierte a int\n",
    "df['Year of Release'] = df['Year of Release'].astype(str).str.extract(r'(\\d+)').astype(int)\n",
    "df['Watch Time'] = df['Watch Time'].astype(int)\n",
    "df['Movie Rating'] = df['Movie Rating'].astype(float)\n",
    "df['Votes'] = df['Votes'].replace(',', '', regex=True).astype(int)\n",
    "print(df)"
   ]
  },
  {
   "cell_type": "code",
   "execution_count": null,
   "id": "bc19838e",
   "metadata": {},
   "outputs": [],
   "source": [
    "# 3.\tAnálisis descriptivo Numpy Calcular media, mediana, mínimo y máximo de rating y votes usando np.mean(), np.median(), np.min(), np.max().\n",
    "# Se imprime los valores de rating y votos, y a las medias y medianas formato 2 decimales.\n",
    "print(f\"rating_media = {np.mean(df['Movie Rating']):.2f}\")\n",
    "print(f\"rating_mediana = {np.median(df['Movie Rating']):.2f}\")\n",
    "print(f\"rating_minimo = {np.min(df['Movie Rating'])}\")\n",
    "print(f\"rating_maximo = {np.max(df['Movie Rating'])}\")\n",
    "\n",
    "print(f\"votes_media = {np.mean(df['Votes']):.2f}\")\n",
    "print(f\"votes_mediana = {np.median(df['Votes']):.2f}\")\n",
    "print(f\"votes_minimo = {np.min(df['Votes'])}\")\n",
    "print(f\"votes_maximo = {np.max(df['Votes'])}\")"
   ]
  },
  {
   "cell_type": "code",
   "execution_count": 77,
   "id": "6c150a9d",
   "metadata": {},
   "outputs": [
    {
     "name": "stdout",
     "output_type": "stream",
     "text": [
      "rating_amplitud = 1.700000000000001\n",
      "votes_amplitud = 2751389\n"
     ]
    }
   ],
   "source": [
    "# 3. Usar np.ptp() (range) para encontrar la amplitud de votes y rating.\n",
    "print(f\"rating_amplitud = {np.ptp(df['Movie Rating'])}\")\n",
    "print(f\"votes_amplitud = { np.ptp(df['Votes'])}\")"
   ]
  },
  {
   "cell_type": "code",
   "execution_count": 78,
   "id": "e9332b62",
   "metadata": {},
   "outputs": [
    {
     "name": "stdout",
     "output_type": "stream",
     "text": [
      "Decade\n",
      "1920      4\n",
      "1930     12\n",
      "1940     17\n",
      "1950     37\n",
      "1960     47\n",
      "1970     53\n",
      "1980     76\n",
      "1990    124\n",
      "2000    193\n",
      "2010    180\n",
      "2020     13\n",
      "dtype: int64\n"
     ]
    }
   ],
   "source": [
    "# 4. ¿Cuántas películas hay por década?\n",
    "df['Decade'] = (df['Year of Release'] // 10) * 10\n",
    "agrupar_contar_decadas = df.groupby('Decade').size()\n",
    "print(agrupar_contar_decadas)"
   ]
  },
  {
   "cell_type": "code",
   "execution_count": null,
   "id": "fd6e1e19",
   "metadata": {},
   "outputs": [],
   "source": [
    "# 4. ¿Cuál es la calificación promedio por década?\n",
    "calificacion_decada = df.groupby('Decade')['Movie Rating'].mean()\n",
    "print(calificacion_decada)"
   ]
  },
  {
   "cell_type": "code",
   "execution_count": null,
   "id": "69272f01",
   "metadata": {},
   "outputs": [
    {
     "name": "stdout",
     "output_type": "stream",
     "text": [
      "                                      Movie Name  Year of Release  \\\n",
      "0                       The Shawshank Redemption             1994   \n",
      "1                                  The Godfather             1972   \n",
      "2                                The Dark Knight             2008   \n",
      "3                               Schindler's List             1993   \n",
      "4                                   12 Angry Men             1957   \n",
      "5  The Lord of the Rings: The Return of the King             2003   \n",
      "6                          The Godfather Part II             1974   \n",
      "7            Spider-Man: Across the Spider-Verse             2023   \n",
      "8                                   Pulp Fiction             1994   \n",
      "9                                      Inception             2010   \n",
      "\n",
      "   Movie Rating  \n",
      "0           9.3  \n",
      "1           9.2  \n",
      "2           9.0  \n",
      "3           9.0  \n",
      "4           9.0  \n",
      "5           9.0  \n",
      "6           9.0  \n",
      "7           8.9  \n",
      "8           8.9  \n",
      "9           8.8  \n"
     ]
    }
   ],
   "source": [
    "# 4. Mostrar las 10 películas mejor valoradas (rating más alto), mostrando título, año y rating.\n",
    "top_valoradas = df[['Movie Name', 'Year of Release', 'Movie Rating']].sort_values(by='Movie Rating', ascending=False).head(10)\n",
    "print(top_valoradas)\n"
   ]
  }
 ],
 "metadata": {
  "kernelspec": {
   "display_name": "menv",
   "language": "python",
   "name": "python3"
  },
  "language_info": {
   "codemirror_mode": {
    "name": "ipython",
    "version": 3
   },
   "file_extension": ".py",
   "mimetype": "text/x-python",
   "name": "python",
   "nbconvert_exporter": "python",
   "pygments_lexer": "ipython3",
   "version": "3.12.7"
  }
 },
 "nbformat": 4,
 "nbformat_minor": 5
}
