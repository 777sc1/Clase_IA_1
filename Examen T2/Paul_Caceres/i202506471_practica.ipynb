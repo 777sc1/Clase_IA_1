{
 "cells": [
  {
   "cell_type": "code",
   "execution_count": 2,
   "id": "0cbf9738",
   "metadata": {},
   "outputs": [
    {
     "name": "stdout",
     "output_type": "stream",
     "text": [
      "1. DataFrames\n",
      "     1.1 Muestra las 3 primeras filas \n",
      " \n",
      "   Nombre  Edad    Ciudad\n",
      "0     Ana  28.0      Lima\n",
      "1    Luis  35.0     Cusco\n",
      "2  Carlos   NaN  Arequipa\n",
      "\n",
      "\n",
      "     1.2 Averigua el tipo de dato de cada columna \n",
      " \n",
      "Nombre     object\n",
      "Edad      float64\n",
      "Ciudad     object\n",
      "dtype: object\n",
      "\n",
      "\n"
     ]
    }
   ],
   "source": [
    "import pandas as pd\n",
    "df = pd.read_csv('personas.csv')\n",
    "print('1. DataFrames')\n",
    "print('     1.1 Muestra las 3 primeras filas \\n ')\n",
    "print(df.head(3))\n",
    "print('\\n')\n",
    "print('     1.2 Averigua el tipo de dato de cada columna \\n ')\n",
    "print(df.dtypes)\n",
    "print('\\n')"
   ]
  },
  {
   "cell_type": "code",
   "execution_count": 4,
   "id": "31c00502",
   "metadata": {},
   "outputs": [
    {
     "name": "stdout",
     "output_type": "stream",
     "text": [
      "2. Selección de datos\n",
      "     2.1 Obtén la columna Nombre como Serie. \n",
      "\n",
      "0       Ana\n",
      "1      Luis\n",
      "2    Carlos\n",
      "3     María\n",
      "4     Jorge\n",
      "Name: Nombre, dtype: object\n",
      "\n",
      "\n",
      "     2.2 Extrae la fila con índice 2. \n",
      "\n",
      "Nombre      Carlos\n",
      "Edad           NaN\n",
      "Ciudad    Arequipa\n",
      "Name: 2, dtype: object\n",
      "\n",
      "\n",
      "     2.3 Obtén el valor de Ciudad de la persona llamada \"Luis\". \n",
      "\n",
      "Ciudad de Luis : Cusco\n",
      "\n",
      "\n"
     ]
    }
   ],
   "source": [
    "print('2. Selección de datos')\n",
    "print('     2.1 Obtén la columna Nombre como Serie. \\n')\n",
    "nombres = df['Nombre']\n",
    "print(nombres)\n",
    "print('\\n')\n",
    "\n",
    "\n",
    "print('     2.2 Extrae la fila con índice 2. \\n')\n",
    "print(df.iloc[2])\n",
    "print('\\n')\n",
    "\n",
    "print('     2.3 Obtén el valor de Ciudad de la persona llamada \"Luis\". \\n')\n",
    "ciudad_luis = df.loc[df['Nombre'] == 'Luis', 'Ciudad'].iloc[0]\n",
    "print(\"Ciudad de Luis :\", ciudad_luis)\n",
    "print('\\n')\n"
   ]
  },
  {
   "cell_type": "code",
   "execution_count": 5,
   "id": "d98194f8",
   "metadata": {},
   "outputs": [
    {
     "name": "stdout",
     "output_type": "stream",
     "text": [
      "3. Métodos básicos\n",
      "\n",
      "     3.1 Usa .describe() para conocer estadísticas.\n",
      "\n",
      "            Edad\n",
      "count   4.000000\n",
      "mean   31.250000\n",
      "std     7.889867\n",
      "min    22.000000\n",
      "25%    26.500000\n",
      "50%    31.500000\n",
      "75%    36.250000\n",
      "max    40.000000\n",
      "\n",
      "\n",
      "     3.2 Muestra cuántas personas hay por ciudad (value_counts). \n",
      "\n",
      "Ciudad\n",
      "Lima        2\n",
      "Cusco       1\n",
      "Arequipa    1\n",
      "Trujillo    1\n",
      "Name: count, dtype: int64\n",
      "\n",
      "\n"
     ]
    }
   ],
   "source": [
    "print('3. Métodos básicos\\n')\n",
    "print('     3.1 Usa .describe() para conocer estadísticas.\\n')\n",
    "print(df.describe())\n",
    "print('\\n')\n",
    "\n",
    "print('     3.2 Muestra cuántas personas hay por ciudad (value_counts). \\n')\n",
    "print(df['Ciudad'].value_counts())\n",
    "print('\\n')\n"
   ]
  },
  {
   "cell_type": "code",
   "execution_count": 6,
   "id": "d61f5f8c",
   "metadata": {},
   "outputs": [
    {
     "name": "stdout",
     "output_type": "stream",
     "text": [
      "4. Limpieza\n",
      "     4.1 Elimina valores nulos en la columna Edad. \n",
      "\n",
      "  Nombre  Edad    Ciudad\n",
      "0    Ana  28.0      Lima\n",
      "1   Luis  35.0     Cusco\n",
      "3  María  22.0      Lima\n",
      "4  Jorge  40.0  Trujillo\n",
      "\n",
      "\n",
      "     4.2.1 Elimina la columna Ciudad.\n",
      "\n",
      "   Nombre  Edad\n",
      "0     Ana  28.0\n",
      "1    Luis  35.0\n",
      "2  Carlos   NaN\n",
      "3   María  22.0\n",
      "4   Jorge  40.0\n",
      "\n",
      "\n",
      "     4.2.2 restáurala cargando de nuevo el CSV.\n",
      "\n",
      "   Nombre  Edad    Ciudad\n",
      "0     Ana  28.0      Lima\n",
      "1    Luis  35.0     Cusco\n",
      "2  Carlos   NaN  Arequipa\n",
      "3   María  22.0      Lima\n",
      "4   Jorge  40.0  Trujillo\n"
     ]
    }
   ],
   "source": [
    "print('4. Limpieza')\n",
    "print('     4.1 Elimina valores nulos en la columna Edad. \\n')\n",
    "df_limpio = df.dropna(subset=['Edad'])\n",
    "print(df_limpio)\n",
    "print('\\n')\n",
    "\n",
    "print('     4.2.1 Elimina la columna Ciudad.\\n')\n",
    "df_sin_ciudad = df.drop(columns=['Ciudad'])\n",
    "print(df_sin_ciudad.head())\n",
    "print('\\n')\n",
    "print('     4.2.2 restáurala cargando de nuevo el CSV.\\n')\n",
    "df = pd.read_csv('personas.csv')\n",
    "print(df.head())"
   ]
  }
 ],
 "metadata": {
  "kernelspec": {
   "display_name": "venv",
   "language": "python",
   "name": "python3"
  },
  "language_info": {
   "codemirror_mode": {
    "name": "ipython",
    "version": 3
   },
   "file_extension": ".py",
   "mimetype": "text/x-python",
   "name": "python",
   "nbconvert_exporter": "python",
   "pygments_lexer": "ipython3",
   "version": "3.11.0"
  }
 },
 "nbformat": 4,
 "nbformat_minor": 5
}
