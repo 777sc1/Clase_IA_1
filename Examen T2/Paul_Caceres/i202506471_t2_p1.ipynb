{
 "cells": [
  {
   "cell_type": "code",
   "execution_count": 14,
   "id": "d9103a1a",
   "metadata": {},
   "outputs": [
    {
     "name": "stdout",
     "output_type": "stream",
     "text": [
      "  1.1 Primeras 5 filas\n",
      "   Unnamed: 0                Movie Name Year of Release  Watch Time  \\\n",
      "0           0  The Shawshank Redemption            1994         142   \n",
      "1           1             The Godfather            1972         175   \n",
      "2           2           The Dark Knight            2008         152   \n",
      "3           3          Schindler's List            1993         195   \n",
      "4           4              12 Angry Men            1957          96   \n",
      "\n",
      "   Movie Rating  Metascore of movie   Gross      Votes  \\\n",
      "0           9.3                82.0   28.34  27,77,378   \n",
      "1           9.2               100.0  134.97  19,33,588   \n",
      "2           9.0                84.0  534.86  27,54,087   \n",
      "3           9.0                95.0    96.9  13,97,886   \n",
      "4           9.0                97.0    4.36   8,24,211   \n",
      "\n",
      "                                         Description  \n",
      "0  Over the course of several years, two convicts...  \n",
      "1  Don Vito Corleone, head of a mafia family, dec...  \n",
      "2  When the menace known as the Joker wreaks havo...  \n",
      "3  In German-occupied Poland during World War II,...  \n",
      "4  The jury in a New York City murder trial is fr...   \n",
      "\n"
     ]
    }
   ],
   "source": [
    "import pandas as pd\n",
    "import numpy as np\n",
    "\n",
    "# 1. Carga del dataset\n",
    "df = pd.read_csv('Top_1000_IMDb_movies_New_version.csv')\n",
    "print('  1.1 Primeras 5 filas')\n",
    "print(df.head(5), '\\n')"
   ]
  },
  {
   "cell_type": "code",
   "execution_count": 15,
   "id": "f6be579f",
   "metadata": {},
   "outputs": [
    {
     "name": "stdout",
     "output_type": "stream",
     "text": [
      "  1.2 .info() resumen\n",
      "<class 'pandas.core.frame.DataFrame'>\n",
      "RangeIndex: 1000 entries, 0 to 999\n",
      "Data columns (total 9 columns):\n",
      " #   Column              Non-Null Count  Dtype  \n",
      "---  ------              --------------  -----  \n",
      " 0   Unnamed: 0          1000 non-null   int64  \n",
      " 1   Movie Name          1000 non-null   object \n",
      " 2   Year of Release     1000 non-null   object \n",
      " 3   Watch Time          1000 non-null   int64  \n",
      " 4   Movie Rating        1000 non-null   float64\n",
      " 5   Metascore of movie  845 non-null    float64\n",
      " 6   Gross               838 non-null    object \n",
      " 7   Votes               1000 non-null   object \n",
      " 8   Description         1000 non-null   object \n",
      "dtypes: float64(2), int64(2), object(5)\n",
      "memory usage: 70.4+ KB\n",
      "None \n",
      "\n"
     ]
    }
   ],
   "source": [
    "print('  1.2 .info() resumen')\n",
    "print(df.info(), '\\n')"
   ]
  },
  {
   "cell_type": "code",
   "execution_count": 16,
   "id": "6ef1f011",
   "metadata": {},
   "outputs": [
    {
     "name": "stdout",
     "output_type": "stream",
     "text": [
      "  1.3 .describe()\n",
      "         Unnamed: 0  Movie Name Year of Release   Watch Time  Movie Rating  \\\n",
      "count   1000.000000        1000            1000  1000.000000   1000.000000   \n",
      "unique          NaN         997             123          NaN           NaN   \n",
      "top             NaN  Drishyam 2            2014          NaN           NaN   \n",
      "freq            NaN           2              28          NaN           NaN   \n",
      "mean     499.500000         NaN             NaN   124.253000      7.970200   \n",
      "std      288.819436         NaN             NaN    28.800355      0.275732   \n",
      "min        0.000000         NaN             NaN    45.000000      7.600000   \n",
      "25%      249.750000         NaN             NaN   103.000000      7.800000   \n",
      "50%      499.500000         NaN             NaN   120.000000      7.900000   \n",
      "75%      749.250000         NaN             NaN   139.000000      8.100000   \n",
      "max      999.000000         NaN             NaN   321.000000      9.300000   \n",
      "\n",
      "        Metascore of movie Gross   Votes  \\\n",
      "count           845.000000   838    1000   \n",
      "unique                 NaN   729     997   \n",
      "top                    NaN  0.01  67,190   \n",
      "freq                   NaN     8       2   \n",
      "mean             79.011834   NaN     NaN   \n",
      "std              11.973800   NaN     NaN   \n",
      "min              28.000000   NaN     NaN   \n",
      "25%              71.000000   NaN     NaN   \n",
      "50%              80.000000   NaN     NaN   \n",
      "75%              88.000000   NaN     NaN   \n",
      "max             100.000000   NaN     NaN   \n",
      "\n",
      "                                              Description  \n",
      "count                                                1000  \n",
      "unique                                               1000  \n",
      "top     Over the course of several years, two convicts...  \n",
      "freq                                                    1  \n",
      "mean                                                  NaN  \n",
      "std                                                   NaN  \n",
      "min                                                   NaN  \n",
      "25%                                                   NaN  \n",
      "50%                                                   NaN  \n",
      "75%                                                   NaN  \n",
      "max                                                   NaN   \n",
      "\n"
     ]
    }
   ],
   "source": [
    "print('  1.3 .describe()')\n",
    "print(df.describe(include='all'), '\\n')"
   ]
  },
  {
   "cell_type": "code",
   "execution_count": 17,
   "id": "353931b8",
   "metadata": {},
   "outputs": [
    {
     "name": "stdout",
     "output_type": "stream",
     "text": [
      "  2.1 Valores nulos por columna\n",
      "Unnamed: 0              0\n",
      "Movie Name              0\n",
      "Year of Release         0\n",
      "Watch Time              0\n",
      "Movie Rating            0\n",
      "Metascore of movie    155\n",
      "Gross                 162\n",
      "Votes                   0\n",
      "Description             0\n",
      "dtype: int64 \n",
      "\n"
     ]
    }
   ],
   "source": [
    "# 2. Limpieza y estructura:\n",
    "print('  2.1 Valores nulos por columna')\n",
    "print(df.isnull().sum(), '\\n')"
   ]
  },
  {
   "cell_type": "code",
   "execution_count": 18,
   "id": "4d5985cb",
   "metadata": {},
   "outputs": [
    {
     "name": "stdout",
     "output_type": "stream",
     "text": [
      "  2.2 Tipos de datos actualizados\n",
      "Tipos de datos actualizados : \n",
      " Unnamed: 0              int64\n",
      "Movie Name             object\n",
      "Year of Release       float64\n",
      "Watch Time              int64\n",
      "Movie Rating          float64\n",
      "Metascore of movie    float64\n",
      "Gross                  object\n",
      "Votes                   int64\n",
      "Description            object\n",
      "dtype: object\n",
      "Datos actualizados : \n",
      "      Unnamed: 0                       Movie Name  Year of Release  Watch Time  \\\n",
      "0             0         The Shawshank Redemption           1994.0         142   \n",
      "1             1                    The Godfather           1972.0         175   \n",
      "2             2                  The Dark Knight           2008.0         152   \n",
      "3             3                 Schindler's List           1993.0         195   \n",
      "4             4                     12 Angry Men           1957.0          96   \n",
      "..          ...                              ...              ...         ...   \n",
      "995         995                        Philomena           2013.0          98   \n",
      "996         996  Un long dimanche de fiançailles           2004.0         133   \n",
      "997         997                            Shine           1996.0         105   \n",
      "998         998                The Invisible Man           1933.0          71   \n",
      "999         999                        Celda 211           2009.0         113   \n",
      "\n",
      "     Movie Rating  Metascore of movie   Gross    Votes  \\\n",
      "0             9.3                82.0   28.34  2777378   \n",
      "1             9.2               100.0  134.97  1933588   \n",
      "2             9.0                84.0  534.86  2754087   \n",
      "3             9.0                95.0    96.9  1397886   \n",
      "4             9.0                97.0    4.36   824211   \n",
      "..            ...                 ...     ...      ...   \n",
      "995           7.6                77.0   37.71   102336   \n",
      "996           7.6                76.0    6.17    75004   \n",
      "997           7.6                87.0   35.81    55589   \n",
      "998           7.6                87.0     NaN    37822   \n",
      "999           7.6                 NaN     NaN    69464   \n",
      "\n",
      "                                           Description  \n",
      "0    Over the course of several years, two convicts...  \n",
      "1    Don Vito Corleone, head of a mafia family, dec...  \n",
      "2    When the menace known as the Joker wreaks havo...  \n",
      "3    In German-occupied Poland during World War II,...  \n",
      "4    The jury in a New York City murder trial is fr...  \n",
      "..                                                 ...  \n",
      "995  A world-weary political journalist picks up th...  \n",
      "996  Tells the story of a young woman's relentless ...  \n",
      "997  Pianist David Helfgott, driven by his father a...  \n",
      "998  A scientist finds a way of becoming invisible,...  \n",
      "999  The story of two men on different sides of a p...  \n",
      "\n",
      "[965 rows x 9 columns]\n"
     ]
    }
   ],
   "source": [
    "print('  2.2 Tipos de datos actualizados')\n",
    "df.columns = [col.strip() for col in df.columns]\n",
    "df['Votes'] = df['Votes'].astype(str).str.replace(',', '')\n",
    "df['Votes'] = pd.to_numeric(df['Votes'], errors='coerce')\n",
    "df['Year of Release'] = pd.to_numeric(df['Year of Release'], errors='coerce')\n",
    "df['Watch Time'] = pd.to_numeric(df['Watch Time'], errors='coerce')\n",
    "df['Movie Rating'] = pd.to_numeric(df['Movie Rating'], errors='coerce')\n",
    "# Limpiar filas numericas\n",
    "df = df.dropna(subset=['Year of Release', 'Watch Time', 'Movie Rating', 'Votes'])\n",
    "print('Tipos de datos actualizados : \\n',df.dtypes)\n",
    "print('Datos actualizados : \\n',df)\n"
   ]
  },
  {
   "cell_type": "code",
   "execution_count": 19,
   "id": "7f25beb0",
   "metadata": {},
   "outputs": [
    {
     "name": "stdout",
     "output_type": "stream",
     "text": [
      "  3.1 Estadísticas Movie Rating:\n",
      "    Media: 7.97\n",
      "    Mediana: 7.9\n",
      "    Min: 7.6\n",
      "    Max: 9.3\n",
      "    Rango: 1.7\n"
     ]
    }
   ],
   "source": [
    "#3. Análisis descriptivo con NumPy\n",
    "print('  3.1 Estadísticas Movie Rating:')\n",
    "print('    Media:', np.round(np.mean(df['Movie Rating']),2))\n",
    "print('    Mediana:', np.round(np.median(df['Movie Rating']),2))\n",
    "print('    Min:', np.round(np.min(df['Movie Rating']),2))\n",
    "print('    Max:', np.round(np.max(df['Movie Rating']),2))\n",
    "print('    Rango:', np.round(np.ptp(df['Movie Rating']),2))"
   ]
  },
  {
   "cell_type": "code",
   "execution_count": 20,
   "id": "f4969d11",
   "metadata": {},
   "outputs": [
    {
     "name": "stdout",
     "output_type": "stream",
     "text": [
      "    3.2 Estadísticas Votes:\n",
      "      Media: 318692\n",
      "      Mediana: 154110\n",
      "      Min: 25813\n",
      "      Max: 2777378\n",
      "      Rango: 2751565\n"
     ]
    }
   ],
   "source": [
    "print('    3.2 Estadísticas Votes:')\n",
    "print('      Media:', int(np.mean(df['Votes'])))\n",
    "print('      Mediana:', int(np.median(df['Votes'])))\n",
    "print('      Min:', int(np.min(df['Votes'])))\n",
    "print('      Max:', int(np.max(df['Votes'])))\n",
    "print('      Rango:', int(np.ptp(df['Votes'])))"
   ]
  },
  {
   "cell_type": "code",
   "execution_count": 14,
   "id": "0ecd63ce",
   "metadata": {},
   "outputs": [
    {
     "name": "stdout",
     "output_type": "stream",
     "text": [
      "  4.1 Cantidad de películas por década:\n",
      "Decade\n",
      "1920.0     11\n",
      "1930.0     25\n",
      "1940.0     39\n",
      "1950.0     61\n",
      "1960.0     71\n",
      "1970.0     68\n",
      "1980.0     87\n",
      "1990.0    139\n",
      "2000.0    212\n",
      "2010.0    212\n",
      "2020.0     40\n",
      "Name: count, dtype: int64 \n",
      "\n",
      "  4.2 Calificación promedio por década:\n",
      "Decade\n",
      "1920.0    8.11\n",
      "1930.0    7.94\n",
      "1940.0    8.01\n",
      "1950.0    8.05\n",
      "1960.0    7.99\n",
      "1970.0    8.00\n",
      "1980.0    7.97\n",
      "1990.0    7.99\n",
      "2000.0    7.92\n",
      "2010.0    7.94\n",
      "2020.0    8.13\n",
      "Name: Movie Rating, dtype: float64 \n",
      "\n",
      "  4.3 Top 10 películas mejor valoradas:\n",
      "                                      Movie Name  Year of Release  \\\n",
      "0                       The Shawshank Redemption           1994.0   \n",
      "1                                  The Godfather           1972.0   \n",
      "2                                The Dark Knight           2008.0   \n",
      "3                               Schindler's List           1993.0   \n",
      "4                                   12 Angry Men           1957.0   \n",
      "5  The Lord of the Rings: The Return of the King           2003.0   \n",
      "6                          The Godfather Part II           1974.0   \n",
      "7            Spider-Man: Across the Spider-Verse           2023.0   \n",
      "8                                   Pulp Fiction           1994.0   \n",
      "9                                      Inception           2010.0   \n",
      "\n",
      "   Movie Rating  \n",
      "0           9.3  \n",
      "1           9.2  \n",
      "2           9.0  \n",
      "3           9.0  \n",
      "4           9.0  \n",
      "5           9.0  \n",
      "6           9.0  \n",
      "7           8.9  \n",
      "8           8.9  \n",
      "9           8.8   \n",
      "\n"
     ]
    }
   ],
   "source": [
    "# 4. Filtrado y agrupación\n",
    "df['Decade'] = (df['Year of Release'] // 10) * 10\n",
    "print('  4.1 Cantidad de películas por década:')\n",
    "print(df['Decade'].value_counts().sort_index(), '\\n')\n",
    "\n",
    "print('  4.2 Calificación promedio por década:')\n",
    "print(df.groupby('Decade')['Movie Rating'].mean().round(2), '\\n')\n",
    "\n",
    "print('  4.3 Top 10 películas mejor valoradas:')\n",
    "top_10 = df.sort_values('Movie Rating', ascending=False).head(10)\n",
    "print(top_10[['Movie Name', 'Year of Release', 'Movie Rating']], '\\n')"
   ]
  }
 ],
 "metadata": {
  "kernelspec": {
   "display_name": "venv",
   "language": "python",
   "name": "python3"
  },
  "language_info": {
   "codemirror_mode": {
    "name": "ipython",
    "version": 3
   },
   "file_extension": ".py",
   "mimetype": "text/x-python",
   "name": "python",
   "nbconvert_exporter": "python",
   "pygments_lexer": "ipython3",
   "version": "3.11.0"
  }
 },
 "nbformat": 4,
 "nbformat_minor": 5
}
