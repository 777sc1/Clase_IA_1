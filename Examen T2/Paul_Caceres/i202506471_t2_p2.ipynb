{
 "cells": [
  {
   "cell_type": "code",
   "execution_count": null,
   "id": "0df3533a",
   "metadata": {},
   "outputs": [
    {
     "name": "stdout",
     "output_type": "stream",
     "text": [
      "1.1 Data original:\n",
      "                                       Roles   Sex  \\\n",
      "0                  Competed in Olympic Games  Male   \n",
      "1                  Competed in Olympic Games  Male   \n",
      "2  Competed in Olympic Games • Administrator  Male   \n",
      "3                  Competed in Olympic Games  Male   \n",
      "4                  Competed in Olympic Games  Male   \n",
      "\n",
      "                                           Full name              Used name  \\\n",
      "0  François Joseph Marie Antoine \"Jean-François\"•...  Jean-François•Blanchy   \n",
      "1                            Arnaud Benjamin•Boetsch         Arnaud•Boetsch   \n",
      "2                        Jean Laurent Robert•Borotra           Jean•Borotra   \n",
      "3               Jacques Marie Stanislas Jean•Brugnon        Jacques•Brugnon   \n",
      "4                                 Henry Albert•Canet           Albert•Canet   \n",
      "\n",
      "                                                Born  \\\n",
      "0        12 December 1886 in Bordeaux, Gironde (FRA)   \n",
      "1             1 April 1969 in Meulan, Yvelines (FRA)   \n",
      "2  13 August 1898 in Biarritz, Pyrénées-Atlantiqu...   \n",
      "3            11 May 1895 in Paris VIIIe, Paris (FRA)   \n",
      "4         17 April 1878 in Wandsworth, England (GBR)   \n",
      "\n",
      "                                                Died     NOC  athlete_id  \\\n",
      "0  2 October 1960 in Saint-Jean-de-Luz, Pyrénées-...  France           1   \n",
      "1                                                NaN  France           2   \n",
      "2  17 July 1994 in Arbonne, Pyrénées-Atlantiques ...  France           3   \n",
      "3              20 March 1978 in Monaco, Monaco (MON)  France           4   \n",
      "4            25 July 1930 in Paris VIIe, Paris (FRA)  France           5   \n",
      "\n",
      "     Measurements                         Affiliations  \\\n",
      "0             NaN                                  NaN   \n",
      "1  183 cm / 76 kg   Racing Club de France, Paris (FRA)   \n",
      "2  183 cm / 76 kg                     TCP, Paris (FRA)   \n",
      "3  168 cm / 64 kg  Sporting club de Paris, Paris (FRA)   \n",
      "4             NaN                     TCP, Paris (FRA)   \n",
      "\n",
      "                                Nick/petnames Title(s) Other names  \\\n",
      "0                                         NaN      NaN         NaN   \n",
      "1                                         NaN      NaN         NaN   \n",
      "2  Le Basque Bondissant (The Bounding Basque)      NaN         NaN   \n",
      "3                                        Toto      NaN         NaN   \n",
      "4                                         NaN      NaN         NaN   \n",
      "\n",
      "  Nationality Original name Name order  \n",
      "0         NaN           NaN        NaN  \n",
      "1         NaN           NaN        NaN  \n",
      "2         NaN           NaN        NaN  \n",
      "3         NaN           NaN        NaN  \n",
      "4         NaN           NaN        NaN   \n",
      "\n"
     ]
    }
   ],
   "source": [
    "import pandas as pd\n",
    "import numpy as np\n",
    "\n",
    "# 1.1 Carga de bios.csv \n",
    "df_bios = pd.read_csv('bios.csv')\n",
    "print(df_bios.head(), '\\n')"
   ]
  },
  {
   "cell_type": "code",
   "execution_count": null,
   "id": "c7bcc786",
   "metadata": {},
   "outputs": [
    {
     "name": "stdout",
     "output_type": "stream",
     "text": [
      "1.2 \"Used name\" sin viñetas:\n",
      "0    Jean-FrançoisBlanchy\n",
      "1           ArnaudBoetsch\n",
      "2             JeanBorotra\n",
      "3          JacquesBrugnon\n",
      "4             AlbertCanet\n",
      "Name: Used name, dtype: object \n",
      "\n"
     ]
    }
   ],
   "source": [
    "# 1.2 Eliminar viñetas en \"Used name\" \n",
    "if 'Used name' in df_bios.columns:\n",
    "    df_bios['Used name'] = df_bios['Used name'].astype(str).str.replace('•', '', regex=False).str.strip()\n",
    "    print('1.2 \"Used name\" sin viñetas:')\n",
    "    print(df_bios['Used name'].head(), '\\n')"
   ]
  },
  {
   "cell_type": "code",
   "execution_count": null,
   "id": "cd8087e5",
   "metadata": {},
   "outputs": [
    {
     "name": "stdout",
     "output_type": "stream",
     "text": [
      "1.3 Altura y peso separados:\n",
      "     Measurements  Height  Weight\n",
      "0             NaN     NaN     NaN\n",
      "1  183 cm / 76 kg   183.0    76.0\n",
      "2  183 cm / 76 kg   183.0    76.0\n",
      "3  168 cm / 64 kg   168.0    64.0\n",
      "4             NaN     NaN     NaN \n",
      "\n"
     ]
    }
   ],
   "source": [
    "# 1.3 Separar altura y peso desde la columna 'Measurements' \n",
    "# Se Extrae los números para altura (cm)/(kg)\n",
    "df_bios[['Height', 'Weight']] = df_bios['Measurements'].str.extract(r'(\\d{2,3})\\s*cm\\s*/\\s*(\\d{2,3})\\s*kg', expand=True)\n",
    "df_bios['Height'] = pd.to_numeric(df_bios['Height'], errors='coerce')\n",
    "df_bios['Weight'] = pd.to_numeric(df_bios['Weight'], errors='coerce')\n",
    "print(df_bios[['Measurements', 'Height', 'Weight']].head(), '\\n')"
   ]
  },
  {
   "cell_type": "code",
   "execution_count": null,
   "id": "0045c7e7",
   "metadata": {},
   "outputs": [
    {
     "name": "stdout",
     "output_type": "stream",
     "text": [
      "0          12 December 1886\n",
      "1              1 April 1969\n",
      "2            13 August 1898\n",
      "3               11 May 1895\n",
      "4             17 April 1878\n",
      "                ...        \n",
      "145495      30 January 2002\n",
      "145496    20 September 1999\n",
      "145497           8 May 1998\n",
      "145498          19 May 1899\n",
      "145499         15 July 1913\n",
      "Name: Born_date, Length: 145500, dtype: object\n",
      "\n",
      "\n",
      "0          2 October 1960\n",
      "1                     NaN\n",
      "2            17 July 1994\n",
      "3           20 March 1978\n",
      "4            25 July 1930\n",
      "               ...       \n",
      "145495                NaN\n",
      "145496                NaN\n",
      "145497                NaN\n",
      "145498      18 March 1986\n",
      "145499    20 October 2003\n",
      "Name: Died_date, Length: 145500, dtype: object\n"
     ]
    }
   ],
   "source": [
    "# 1.4. Extraer fechas de 'Born' y 'Died'\n",
    "df_bios['Born_date'] = df_bios['Born'].str.extract(r'^(\\d{1,2} \\w+ \\d{4})')\n",
    "df_bios['Died_date'] = df_bios['Died'].str.extract(r'^(\\d{1,2} \\w+ \\d{4})')\n",
    "\n",
    "print(df_bios['Born_date'])\n",
    "print('\\n')\n",
    "print(df_bios['Died_date'])"
   ]
  },
  {
   "cell_type": "code",
   "execution_count": 35,
   "id": "b1d6bc84",
   "metadata": {},
   "outputs": [
    {
     "name": "stdout",
     "output_type": "stream",
     "text": [
      "     Born_City           Born_Region Born_Country\n",
      "0     Bordeaux               Gironde        (FRA)\n",
      "1       Meulan              Yvelines        (FRA)\n",
      "2     Biarritz  Pyrénées-Atlantiques        (FRA)\n",
      "3  Paris VIIIe                 Paris        (FRA)\n",
      "4   Wandsworth               England        (GBR) \n",
      "\n"
     ]
    }
   ],
   "source": [
    "#  1.5 Extraer ciudad, región, país desde Born_Place\n",
    "\n",
    "df_bios['Born_City'] = df_bios['Born'].str.split(' in ').str[-1].str.split(',').str[0]\n",
    "df_bios['Born_Region'] = df_bios['Born'].str.split(' in ').str[-1].str.split(',').str[1].str.split(' ').str[1]\n",
    "df_bios['Born_Country'] = df_bios['Born'].str.split(' in ').str[-1].str.split(',').str[1].str.split(' ').str[-1]\n",
    "print(df_bios[['Born_City', 'Born_Region', 'Born_Country']].head(), '\\n')"
   ]
  },
  {
   "cell_type": "code",
   "execution_count": 36,
   "id": "057f1b80",
   "metadata": {},
   "outputs": [
    {
     "name": "stdout",
     "output_type": "stream",
     "text": [
      "                                       Roles   Sex  \\\n",
      "0                  Competed in Olympic Games  Male   \n",
      "1                  Competed in Olympic Games  Male   \n",
      "2  Competed in Olympic Games • Administrator  Male   \n",
      "3                  Competed in Olympic Games  Male   \n",
      "4                  Competed in Olympic Games  Male   \n",
      "\n",
      "                                           Full name             Used name  \\\n",
      "0  François Joseph Marie Antoine \"Jean-François\"•...  Jean-FrançoisBlanchy   \n",
      "1                            Arnaud Benjamin•Boetsch         ArnaudBoetsch   \n",
      "2                        Jean Laurent Robert•Borotra           JeanBorotra   \n",
      "3               Jacques Marie Stanislas Jean•Brugnon        JacquesBrugnon   \n",
      "4                                 Henry Albert•Canet           AlbertCanet   \n",
      "\n",
      "                                                Born  \\\n",
      "0        12 December 1886 in Bordeaux, Gironde (FRA)   \n",
      "1             1 April 1969 in Meulan, Yvelines (FRA)   \n",
      "2  13 August 1898 in Biarritz, Pyrénées-Atlantiqu...   \n",
      "3            11 May 1895 in Paris VIIIe, Paris (FRA)   \n",
      "4         17 April 1878 in Wandsworth, England (GBR)   \n",
      "\n",
      "                                                Died     NOC  athlete_id  \\\n",
      "0  2 October 1960 in Saint-Jean-de-Luz, Pyrénées-...  France           1   \n",
      "1                                                NaN  France           2   \n",
      "2  17 July 1994 in Arbonne, Pyrénées-Atlantiques ...  France           3   \n",
      "3              20 March 1978 in Monaco, Monaco (MON)  France           4   \n",
      "4            25 July 1930 in Paris VIIe, Paris (FRA)  France           5   \n",
      "\n",
      "     Measurements                         Affiliations  \\\n",
      "0             NaN                                  NaN   \n",
      "1  183 cm / 76 kg   Racing Club de France, Paris (FRA)   \n",
      "2  183 cm / 76 kg                     TCP, Paris (FRA)   \n",
      "3  168 cm / 64 kg  Sporting club de Paris, Paris (FRA)   \n",
      "4             NaN                     TCP, Paris (FRA)   \n",
      "\n",
      "                                Nick/petnames Title(s) Other names  \\\n",
      "0                                         NaN      NaN         NaN   \n",
      "1                                         NaN      NaN         NaN   \n",
      "2  Le Basque Bondissant (The Bounding Basque)      NaN         NaN   \n",
      "3                                        Toto      NaN         NaN   \n",
      "4                                         NaN      NaN         NaN   \n",
      "\n",
      "  Nationality Original name Name order  \n",
      "0         NaN           NaN        NaN  \n",
      "1         NaN           NaN        NaN  \n",
      "2         NaN           NaN        NaN  \n",
      "3         NaN           NaN        NaN  \n",
      "4         NaN           NaN        NaN   \n",
      "\n"
     ]
    }
   ],
   "source": [
    "#  1.6 Eliminar columnas adicionales innecesarias \n",
    "columnas_original = ['Roles','Sex','Full name','Used name','Born','Died','NOC','athlete_id','Measurements','Affiliations','Nick/petnames','Title(s)','Other names','Nationality','Original name','Name order'\n",
    "]\n",
    "columnas_existentes = [c for c in columnas_original if c in df_bios.columns]\n",
    "df_bios = df_bios[columnas_existentes]\n",
    "print(df_bios.head(), '\\n')"
   ]
  },
  {
   "cell_type": "code",
   "execution_count": null,
   "id": "d44de299",
   "metadata": {},
   "outputs": [],
   "source": [
    "#1.7 Archivo 'bios.csv' guardado\n",
    "df_bios.to_csv('bios.csv', index=False)\n"
   ]
  },
  {
   "cell_type": "code",
   "execution_count": 55,
   "id": "3f8ffe9e",
   "metadata": {},
   "outputs": [
    {
     "name": "stdout",
     "output_type": "stream",
     "text": [
      "Data original:\n",
      "                   Games                     Event             Team  Pos Medal  \\\n",
      "0  1912 Summer Olympics    Singles, Men (Olympic)              NaN  =17   NaN   \n",
      "1  1912 Summer Olympics    Doubles, Men (Olympic)   Jean Montariol  DNS   NaN   \n",
      "2  1920 Summer Olympics    Singles, Men (Olympic)              NaN  =32   NaN   \n",
      "3  1920 Summer Olympics  Doubles, Mixed (Olympic)  Jeanne Vaussard   =8   NaN   \n",
      "4  1920 Summer Olympics    Doubles, Men (Olympic)  Jacques Brugnon    4   NaN   \n",
      "\n",
      "                      As  athlete_id  NOC Discipline Nationality  Unnamed: 7  \n",
      "0  Jean-François Blanchy           1  FRA     Tennis         NaN         NaN  \n",
      "1  Jean-François Blanchy           1  FRA     Tennis         NaN         NaN  \n",
      "2  Jean-François Blanchy           1  FRA     Tennis         NaN         NaN  \n",
      "3  Jean-François Blanchy           1  FRA     Tennis         NaN         NaN  \n",
      "4  Jean-François Blanchy           1  FRA     Tennis         NaN         NaN   \n",
      "\n"
     ]
    },
    {
     "name": "stderr",
     "output_type": "stream",
     "text": [
      "C:\\Users\\paulc\\AppData\\Local\\Temp\\ipykernel_25256\\187896261.py:6: DtypeWarning: Columns (9) have mixed types. Specify dtype option on import or set low_memory=False.\n",
      "  df_results = pd.read_csv('results.csv')\n"
     ]
    }
   ],
   "source": [
    "#2\n",
    "import pandas as pd\n",
    "import numpy as np\n",
    "\n",
    "# Carga el archivo\n",
    "df_results = pd.read_csv('results.csv')\n",
    "print('Data original:\\n', df_results.head(), '\\n')\n",
    "\n"
   ]
  },
  {
   "cell_type": "code",
   "execution_count": null,
   "id": "3cdd73b2",
   "metadata": {},
   "outputs": [
    {
     "name": "stdout",
     "output_type": "stream",
     "text": [
      "                  Games Games_Year       Games_Type\n",
      "0  1912 Summer Olympics       1912  Summer Olympics\n",
      "1  1912 Summer Olympics       1912  Summer Olympics\n",
      "2  1920 Summer Olympics       1920  Summer Olympics\n",
      "3  1920 Summer Olympics       1920  Summer Olympics\n",
      "4  1920 Summer Olympics       1920  Summer Olympics \n",
      "\n"
     ]
    }
   ],
   "source": [
    "# 2.1. Separar el año y el tipo de la columna Games\n",
    "df_results['Games_Year'] = df_results['Games'].str.extract(r'(\\d{4})')\n",
    "df_results['Games_Type'] = df_results['Games'].str.replace(r'\\d{4}', '', regex=True).str.strip(' -_')\n",
    "print( df_results[['Games', 'Games_Year', 'Games_Type']].head(), '\\n')\n",
    "\n",
    "\n"
   ]
  },
  {
   "cell_type": "code",
   "execution_count": null,
   "id": "dcc2bbc7",
   "metadata": {},
   "outputs": [
    {
     "name": "stdout",
     "output_type": "stream",
     "text": [
      "Separación \"Pos\" y \"Tied\":\n",
      "    Pos Pos_pos   Pos_Tied\n",
      "0  =17      17     Empate\n",
      "1  DNS     NaN  No empate\n",
      "2  =32      32     Empate\n",
      "3   =8       8     Empate\n",
      "4    4       4  No empate \n",
      "\n"
     ]
    }
   ],
   "source": [
    "# 2.2 Separar la columna de empates (tied) de la columna Pos\n",
    "df_results['Pos_pos'] = df_results['Pos'].str.extract(r'(\\d+)')\n",
    "df_results['Pos_Tied'] = df_results['Pos'].str.startswith('=').replace({True: 'Empate', False: 'No empate'})\n",
    "print('Separación \"Pos\" y \"Tied\":\\n', df_results[['Pos', 'Pos_pos', 'Pos_Tied']].head(), '\\n')\n",
    "\n"
   ]
  },
  {
   "cell_type": "code",
   "execution_count": 56,
   "id": "10cdd489",
   "metadata": {},
   "outputs": [
    {
     "name": "stdout",
     "output_type": "stream",
     "text": [
      "Pos numérico (NaN si no es número):\n",
      " 0    NaN\n",
      "1    NaN\n",
      "2    NaN\n",
      "3    NaN\n",
      "4    4.0\n",
      "Name: Pos, dtype: float64 \n",
      "\n"
     ]
    }
   ],
   "source": [
    "# 2.3. Convertir en NaN los valores no numéricos en la columna Pos\n",
    "df_results['Pos'] = pd.to_numeric(df_results['Pos'], errors='coerce')\n",
    "print('Pos numérico (NaN si no es número):\\n', df_results['Pos'].head(), '\\n')\n"
   ]
  },
  {
   "cell_type": "code",
   "execution_count": 57,
   "id": "17201a6d",
   "metadata": {},
   "outputs": [
    {
     "name": "stdout",
     "output_type": "stream",
     "text": [
      "Columnas sin nombre eliminadas: ['Unnamed: 7']\n",
      "\n"
     ]
    }
   ],
   "source": [
    "# 2.4. Eliminar la columna sin nombre (Unnamed)\n",
    "cols_sin_nombre = [col for col in df_results.columns if 'unnamed' in col.lower()]\n",
    "df_results = df_results.drop(columns=cols_sin_nombre)\n",
    "if cols_sin_nombre:\n",
    "    print(f'Columnas sin nombre eliminadas: {cols_sin_nombre}\\n')\n",
    "\n"
   ]
  },
  {
   "cell_type": "code",
   "execution_count": 58,
   "id": "56cae39e",
   "metadata": {},
   "outputs": [
    {
     "name": "stdout",
     "output_type": "stream",
     "text": [
      "Data reordenada:\n",
      "                   Games                     Event  Pos Medal             Team  \\\n",
      "0  1912 Summer Olympics    Singles, Men (Olympic)  NaN   NaN              NaN   \n",
      "1  1912 Summer Olympics    Doubles, Men (Olympic)  NaN   NaN   Jean Montariol   \n",
      "2  1920 Summer Olympics    Singles, Men (Olympic)  NaN   NaN              NaN   \n",
      "3  1920 Summer Olympics  Doubles, Mixed (Olympic)  NaN   NaN  Jeanne Vaussard   \n",
      "4  1920 Summer Olympics    Doubles, Men (Olympic)  4.0   NaN  Jacques Brugnon   \n",
      "\n",
      "                      As  athlete_id  NOC Discipline Nationality  \n",
      "0  Jean-François Blanchy           1  FRA     Tennis         NaN  \n",
      "1  Jean-François Blanchy           1  FRA     Tennis         NaN  \n",
      "2  Jean-François Blanchy           1  FRA     Tennis         NaN  \n",
      "3  Jean-François Blanchy           1  FRA     Tennis         NaN  \n",
      "4  Jean-François Blanchy           1  FRA     Tennis         NaN   \n",
      "\n"
     ]
    }
   ],
   "source": [
    "# 2.5. Reordenar las columnas\n",
    "# Cambia el orden según el contenido real de tu archivo\n",
    "columnas_orden = ['Athlete', 'Games', 'Games_Year', 'Games_Type', \n",
    "                  'Event', 'Position', 'Pos', 'Tied', 'Medal']\n",
    "columnas_orden = [c for c in columnas_orden if c in df_results.columns]\n",
    "resto = [c for c in df_results.columns if c not in columnas_orden]\n",
    "df_results = df_results[columnas_orden + resto]\n",
    "print('Data reordenada:\\n', df_results.head(), '\\n')\n"
   ]
  },
  {
   "cell_type": "code",
   "execution_count": 59,
   "id": "85a2c7f4",
   "metadata": {},
   "outputs": [
    {
     "name": "stdout",
     "output_type": "stream",
     "text": [
      "Archivo actualizado: results_limpio.csv\n",
      "\n"
     ]
    }
   ],
   "source": [
    "\n",
    "# 2.6. Guardar el DataFrame ya limpio\n",
    "df_results.to_csv('results_limpio.csv', index=False)\n",
    "print('Archivo actualizado: results_limpio.csv\\n')"
   ]
  }
 ],
 "metadata": {
  "kernelspec": {
   "display_name": "venv",
   "language": "python",
   "name": "python3"
  },
  "language_info": {
   "codemirror_mode": {
    "name": "ipython",
    "version": 3
   },
   "file_extension": ".py",
   "mimetype": "text/x-python",
   "name": "python",
   "nbconvert_exporter": "python",
   "pygments_lexer": "ipython3",
   "version": "3.11.0"
  }
 },
 "nbformat": 4,
 "nbformat_minor": 5
}
