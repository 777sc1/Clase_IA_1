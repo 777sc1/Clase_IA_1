{
 "cells": [
  {
   "cell_type": "code",
   "execution_count": 3,
   "id": "0b1b7445",
   "metadata": {},
   "outputs": [
    {
     "name": "stdout",
     "output_type": "stream",
     "text": [
      "Collecting pandas\n",
      "  Downloading pandas-2.3.1-cp311-cp311-win_amd64.whl.metadata (19 kB)\n",
      "Requirement already satisfied: numpy>=1.23.2 in c:\\users\\user\\appdata\\local\\programs\\python\\python311\\lib\\site-packages (from pandas) (2.3.2)\n",
      "Requirement already satisfied: python-dateutil>=2.8.2 in c:\\users\\user\\appdata\\roaming\\python\\python311\\site-packages (from pandas) (2.9.0.post0)\n",
      "Collecting pytz>=2020.1 (from pandas)\n",
      "  Downloading pytz-2025.2-py2.py3-none-any.whl.metadata (22 kB)\n",
      "Collecting tzdata>=2022.7 (from pandas)\n",
      "  Downloading tzdata-2025.2-py2.py3-none-any.whl.metadata (1.4 kB)\n",
      "Requirement already satisfied: six>=1.5 in c:\\users\\user\\appdata\\roaming\\python\\python311\\site-packages (from python-dateutil>=2.8.2->pandas) (1.17.0)\n",
      "Downloading pandas-2.3.1-cp311-cp311-win_amd64.whl (11.3 MB)\n",
      "   ---------------------------------------- 0.0/11.3 MB ? eta -:--:--\n",
      "   ---------------------------------------- 11.3/11.3 MB 78.6 MB/s eta 0:00:00\n",
      "Downloading pytz-2025.2-py2.py3-none-any.whl (509 kB)\n",
      "Downloading tzdata-2025.2-py2.py3-none-any.whl (347 kB)\n",
      "Installing collected packages: pytz, tzdata, pandas\n",
      "Successfully installed pandas-2.3.1 pytz-2025.2 tzdata-2025.2\n",
      "Note: you may need to restart the kernel to use updated packages.\n"
     ]
    },
    {
     "name": "stderr",
     "output_type": "stream",
     "text": [
      "\n",
      "[notice] A new release of pip is available: 25.0 -> 25.2\n",
      "[notice] To update, run: python.exe -m pip install --upgrade pip\n"
     ]
    }
   ],
   "source": [
    "pip install pandas\n"
   ]
  },
  {
   "cell_type": "code",
   "execution_count": 5,
   "id": "ee6ba8b1",
   "metadata": {},
   "outputs": [
    {
     "name": "stdout",
     "output_type": "stream",
     "text": [
      "Requirement already satisfied: numpy in c:\\users\\user\\appdata\\local\\programs\\python\\python311\\lib\\site-packages (2.3.2)\n",
      "Note: you may need to restart the kernel to use updated packages.\n"
     ]
    },
    {
     "name": "stderr",
     "output_type": "stream",
     "text": [
      "\n",
      "[notice] A new release of pip is available: 25.0 -> 25.2\n",
      "[notice] To update, run: python.exe -m pip install --upgrade pip\n"
     ]
    }
   ],
   "source": [
    "pip install numpy\n"
   ]
  },
  {
   "cell_type": "code",
   "execution_count": 6,
   "id": "788cfbc5",
   "metadata": {},
   "outputs": [],
   "source": [
    "import pandas as pd\n",
    "import numpy as np"
   ]
  },
  {
   "cell_type": "code",
   "execution_count": 10,
   "id": "2f6a8e0b",
   "metadata": {},
   "outputs": [
    {
     "name": "stdout",
     "output_type": "stream",
     "text": [
      "Dimensiones: 1000 filas × 9 columnas\n",
      "5 primeras filas:\n",
      "   Unnamed: 0                Movie Name Year of Release  Watch Time  \\\n",
      "0           0  The Shawshank Redemption            1994         142   \n",
      "1           1             The Godfather            1972         175   \n",
      "2           2           The Dark Knight            2008         152   \n",
      "3           3          Schindler's List            1993         195   \n",
      "4           4              12 Angry Men            1957          96   \n",
      "\n",
      "   Movie Rating  Metascore of movie   Gross      Votes  \\\n",
      "0           9.3                82.0   28.34  27,77,378   \n",
      "1           9.2               100.0  134.97  19,33,588   \n",
      "2           9.0                84.0  534.86  27,54,087   \n",
      "3           9.0                95.0    96.9  13,97,886   \n",
      "4           9.0                97.0    4.36   8,24,211   \n",
      "\n",
      "                                         Description  \n",
      "0  Over the course of several years, two convicts...  \n",
      "1  Don Vito Corleone, head of a mafia family, dec...  \n",
      "2  When the menace known as the Joker wreaks havo...  \n",
      "3  In German-occupied Poland during World War II,...  \n",
      "4  The jury in a New York City murder trial is fr...  \n",
      "Informacion general:\n",
      "<class 'pandas.core.frame.DataFrame'>\n",
      "RangeIndex: 1000 entries, 0 to 999\n",
      "Data columns (total 9 columns):\n",
      " #   Column              Non-Null Count  Dtype  \n",
      "---  ------              --------------  -----  \n",
      " 0   Unnamed: 0          1000 non-null   int64  \n",
      " 1   Movie Name          1000 non-null   object \n",
      " 2   Year of Release     1000 non-null   object \n",
      " 3   Watch Time          1000 non-null   int64  \n",
      " 4   Movie Rating        1000 non-null   float64\n",
      " 5   Metascore of movie  845 non-null    float64\n",
      " 6   Gross               838 non-null    object \n",
      " 7   Votes               1000 non-null   object \n",
      " 8   Description         1000 non-null   object \n",
      "dtypes: float64(2), int64(2), object(5)\n",
      "memory usage: 70.4+ KB\n",
      "\n",
      "Estadisticas descriptivas:\n",
      "        Unnamed: 0   Watch Time  Movie Rating  Metascore of movie\n",
      "count  1000.000000  1000.000000   1000.000000          845.000000\n",
      "mean    499.500000   124.253000      7.970200           79.011834\n",
      "std     288.819436    28.800355      0.275732           11.973800\n",
      "min       0.000000    45.000000      7.600000           28.000000\n",
      "25%     249.750000   103.000000      7.800000           71.000000\n",
      "50%     499.500000   120.000000      7.900000           80.000000\n",
      "75%     749.250000   139.000000      8.100000           88.000000\n",
      "max     999.000000   321.000000      9.300000          100.000000\n"
     ]
    }
   ],
   "source": [
    "df = pd.read_csv('Top_1000_IMDb_movies_New_version.csv')\n",
    "print(f\"Dimensiones: {df.shape[0]} filas × {df.shape[1]} columnas\")\n",
    "\n",
    "print(\"5 primeras filas:\")\n",
    "print(df.head())\n",
    "\n",
    "print(\"Informacion general:\")\n",
    "df.info()\n",
    "\n",
    "print(\"\\nEstadisticas descriptivas:\")\n",
    "print(df.describe())"
   ]
  },
  {
   "cell_type": "code",
   "execution_count": 11,
   "id": "430b3087",
   "metadata": {},
   "outputs": [
    {
     "name": "stdout",
     "output_type": "stream",
     "text": [
      "   1. Unnamed: 0\n",
      "   2. Movie Name\n",
      "   3. Year of Release\n",
      "   4. Watch Time\n",
      "   5. Movie Rating\n",
      "   6. Metascore of movie\n",
      "   7. Gross\n",
      "   8. Votes\n",
      "   9. Description\n",
      "Valores nulos por columna:\n",
      "   Metascore of movie: 155 valores nulos\n",
      "   Gross: 162 valores nulos\n",
      "Columnas identificadas:\n",
      "   year: 'Year of Release'\n",
      "   duration: 'Watch Time'\n",
      "   rating: 'Movie Rating'\n",
      "   votes: 'Votes'\n",
      "   title: 'Movie Name'\n"
     ]
    }
   ],
   "source": [
    "for i, col in enumerate(df.columns, 1):\n",
    "    print(f\"   {i}. {col}\")\n",
    "\n",
    "print(\"Valores nulos por columna:\")\n",
    "null_counts = df.isnull().sum()\n",
    "hay_nulos = False\n",
    "for col, count in null_counts.items():\n",
    "    if count > 0:\n",
    "        print(f\"   {col}: {count} valores nulos\")\n",
    "        hay_nulos = True\n",
    "if not hay_nulos:\n",
    "    print(\"   No hay valores nulos en el dataset\")\n",
    "\n",
    "columna_mappings = {\n",
    "    'year': 'Year of Release',\n",
    "    'duration': 'Watch Time', \n",
    "    'rating': 'Movie Rating',\n",
    "    'votes': 'Votes',\n",
    "    'title': 'Movie Name'\n",
    "}\n",
    "\n",
    "print(\"Columnas identificadas:\")\n",
    "for key, col_name in columna_mappings.items():\n",
    "    if col_name in df.columns:\n",
    "        print(f\"   {key}: '{col_name}'\")\n",
    "    else:\n",
    "        print(f\"   {key}: '{col_name}' (no encontrada)\")"
   ]
  },
  {
   "cell_type": "code",
   "execution_count": 12,
   "id": "f9881f3c",
   "metadata": {},
   "outputs": [
    {
     "name": "stdout",
     "output_type": "stream",
     "text": [
      "   35 valores problemáticos encontrados\n",
      "   Filas con años inválidos eliminadas\n",
      "   Convertido a int64\n",
      "\n",
      "   Procesando 'Watch Time':\n",
      "   Ya está en formato correcto (int64)\n",
      "\n",
      "   Procesando 'Movie Rating':\n",
      "   Ya está en formato correcto (float64)\n",
      "\n",
      "   Procesando 'Votes':\n",
      "   Valores de ejemplo: ['27,77,378', '19,33,588', '27,54,087', '13,97,886', '8,24,211']\n",
      "   Convertido a int64\n",
      "\n",
      "DIMENSIONES DESPUÉS DE LIMPIEZA: 965 filas × 9 columnas\n",
      "\n",
      "TIPOS DE DATOS DESPUÉS DE LIMPIEZA:\n",
      "   Year of Release: int64\n",
      "   Watch Time: int64\n",
      "   Movie Rating: float64\n",
      "   Votes: int64\n"
     ]
    }
   ],
   "source": [
    "df['Year of Release'] = pd.to_numeric(df['Year of Release'], errors='coerce')\n",
    "year_nans = df['Year of Release'].isna().sum()\n",
    "if year_nans > 0:\n",
    "    print(f\"   {year_nans} valores problemáticos encontrados\")\n",
    "    df = df.dropna(subset=['Year of Release'])\n",
    "    print(f\"   Filas con años inválidos eliminadas\")\n",
    "\n",
    "df['Year of Release'] = df['Year of Release'].astype('int64')\n",
    "print(f\"   Convertido a int64\")\n",
    "\n",
    "print(f\"\\n   Procesando 'Watch Time':\")\n",
    "print(f\"   Ya está en formato correcto (int64)\")\n",
    "\n",
    "print(f\"\\n   Procesando 'Movie Rating':\")\n",
    "print(f\"   Ya está en formato correcto (float64)\")\n",
    "\n",
    "print(f\"\\n   Procesando 'Votes':\")\n",
    "print(f\"   Valores de ejemplo: {df['Votes'].head().tolist()}\")\n",
    "\n",
    "df['Votes'] = df['Votes'].str.replace(',', '', regex=False)\n",
    "df['Votes'] = pd.to_numeric(df['Votes'], errors='coerce')\n",
    "\n",
    "votes_nans = df['Votes'].isna().sum()\n",
    "if votes_nans > 0:\n",
    "    print(f\"   {votes_nans} valores problemáticos encontrados\")\n",
    "    mediana_votes = df['Votes'].median()\n",
    "    df['Votes'].fillna(mediana_votes, inplace=True)\n",
    "    print(f\"   NaN imputados con mediana: {mediana_votes:,.0f}\")\n",
    "\n",
    "df['Votes'] = df['Votes'].astype('int64')\n",
    "print(f\"   Convertido a int64\")\n",
    "\n",
    "print(f\"\\nDIMENSIONES DESPUÉS DE LIMPIEZA: {df.shape[0]} filas × {df.shape[1]} columnas\")\n",
    "\n",
    "print(f\"\\nTIPOS DE DATOS DESPUÉS DE LIMPIEZA:\")\n",
    "columnas_importantes = ['Year of Release', 'Watch Time', 'Movie Rating', 'Votes']\n",
    "for col in columnas_importantes:\n",
    "    print(f\"   {col}: {df[col].dtype}\")\n"
   ]
  },
  {
   "cell_type": "code",
   "execution_count": 13,
   "id": "1d2746b4",
   "metadata": {},
   "outputs": [
    {
     "name": "stdout",
     "output_type": "stream",
     "text": [
      "   Media (np.mean):      7.97\n",
      "   Mediana (np.median):  7.90\n",
      "   Mínimo (np.min):      7.60\n",
      "   Máximo (np.max):      9.30\n",
      "   Rango (np.ptp):       1.70\n",
      "Analisis de votos:\n",
      "   Media (np.mean):      318,692\n",
      "   Mediana (np.median):  154,110\n",
      "   Mínimo (np.min):      25,813\n",
      "   Máximo (np.max):      2,777,378\n",
      "   Rango (np.ptp):       2,751,565\n",
      "Estadisticas adicionales:\n",
      "   Desviación estándar de rating: 0.277\n",
      "   Desviación estándar de votes:  389,781\n",
      "   Varianza de rating:            0.077\n",
      "   Varianza de votes:             151,929,133,182\n"
     ]
    }
   ],
   "source": [
    "rating_data = df['Movie Rating'].values  \n",
    "\n",
    "print(f\"   Media (np.mean):      {np.mean(rating_data):.2f}\")\n",
    "print(f\"   Mediana (np.median):  {np.median(rating_data):.2f}\")\n",
    "print(f\"   Mínimo (np.min):      {np.min(rating_data):.2f}\")\n",
    "print(f\"   Máximo (np.max):      {np.max(rating_data):.2f}\")\n",
    "print(f\"   Rango (np.ptp):       {np.ptp(rating_data):.2f}\")\n",
    "\n",
    "print(\"Analisis de votos:\")\n",
    "votes_data = df['Votes'].values  \n",
    "\n",
    "print(f\"   Media (np.mean):      {np.mean(votes_data):,.0f}\")\n",
    "print(f\"   Mediana (np.median):  {np.median(votes_data):,.0f}\")\n",
    "print(f\"   Mínimo (np.min):      {np.min(votes_data):,}\")\n",
    "print(f\"   Máximo (np.max):      {np.max(votes_data):,}\")\n",
    "print(f\"   Rango (np.ptp):       {np.ptp(votes_data):,}\")\n",
    "\n",
    "print(\"Estadisticas adicionales:\")\n",
    "print(f\"   Desviación estándar de rating: {np.std(rating_data):.3f}\")\n",
    "print(f\"   Desviación estándar de votes:  {np.std(votes_data):,.0f}\")\n",
    "print(f\"   Varianza de rating:            {np.var(rating_data):.3f}\")\n",
    "print(f\"   Varianza de votes:             {np.var(votes_data):,.0f}\")"
   ]
  },
  {
   "cell_type": "code",
   "execution_count": 14,
   "id": "ab863b1d",
   "metadata": {},
   "outputs": [
    {
     "name": "stdout",
     "output_type": "stream",
     "text": [
      "Columna 'decada' creada usando operación vectorizada\n",
      "   Décadas disponibles: [1920, 1930, 1940, 1950, 1960, 1970, 1980, 1990, 2000, 2010, 2020]\n",
      "Analisis por decada:\n",
      "Numero de peliculas por decada:\n",
      "   1920s:  11 películas\n",
      "   1930s:  25 películas\n",
      "   1940s:  39 películas\n",
      "   1950s:  61 películas\n",
      "   1960s:  71 películas\n",
      "   1970s:  68 películas\n",
      "   1980s:  87 películas\n",
      "   1990s: 139 películas\n",
      "   2000s: 212 películas\n",
      "   2010s: 212 películas\n",
      "   2020s:  40 películas\n",
      "Calificacion promedio por decada:\n",
      "   1920s: 8.11\n",
      "   1930s: 7.94\n",
      "   1940s: 8.01\n",
      "   1950s: 8.05\n",
      "   1960s: 7.99\n",
      "   1970s: 8.00\n",
      "   1980s: 7.97\n",
      "   1990s: 7.99\n",
      "   2000s: 7.92\n",
      "   2010s: 7.94\n",
      "   2020s: 8.13\n",
      "Top 10 peliculas mejor valoradas:\n",
      "-------------------------------------------------------\n",
      "#   Título                                             Año    Rating  \n",
      "----------------------------------------------------------------------\n",
      "1   The Shawshank Redemption                           1994   9.3\n",
      "2   The Godfather                                      1972   9.2\n",
      "3   The Dark Knight                                    2008   9.0\n",
      "4   Schindler's List                                   1993   9.0\n",
      "5   12 Angry Men                                       1957   9.0\n",
      "6   The Lord of the Rings: The Return of the King      2003   9.0\n",
      "7   The Godfather Part II                              1974   9.0\n",
      "8   Spider-Man: Across the Spider-Verse                2023   8.9\n",
      "9   Pulp Fiction                                       1994   8.9\n",
      "10  Inception                                          2010   8.8\n"
     ]
    }
   ],
   "source": [
    "df['decada'] = (df['Year of Release'] // 10) * 10\n",
    "print(\"Columna 'decada' creada usando operación vectorizada\")\n",
    "\n",
    "decadas_unicas = sorted(df['decada'].unique())\n",
    "print(f\"   Décadas disponibles: {[int(d) for d in decadas_unicas]}\")\n",
    "\n",
    "print(\"Analisis por decada:\")\n",
    "\n",
    "print(\"Numero de peliculas por decada:\")\n",
    "peliculas_por_decada = df.groupby('decada').size()\n",
    "for decada, count in peliculas_por_decada.items():\n",
    "    print(f\"   {int(decada)}s: {count:3d} películas\")\n",
    "\n",
    "print(\"Calificacion promedio por decada:\")\n",
    "for decada in decadas_unicas:\n",
    "    mask = df['decada'] == decada\n",
    "    ratings_decada = df.loc[mask, 'Movie Rating'].values\n",
    "    \n",
    "    promedio = np.mean(ratings_decada)\n",
    "    print(f\"   {int(decada)}s: {promedio:.2f}\")\n",
    "\n",
    "print(\"Top 10 peliculas mejor valoradas:\")\n",
    "print(\"-\" * 55)\n",
    "\n",
    "top_10 = df.nlargest(10, 'Movie Rating')[['Movie Name', 'Year of Release', 'Movie Rating']]\n",
    "\n",
    "print(f\"{'#':<3} {'Título':<50} {'Año':<6} {'Rating':<8}\")\n",
    "print(\"-\" * 70)\n",
    "\n",
    "for i, (_, movie) in enumerate(top_10.iterrows(), 1):\n",
    "    titulo = movie['Movie Name']\n",
    "    if len(titulo) > 47:\n",
    "        titulo = titulo[:47] + \"...\"\n",
    "    \n",
    "    print(f\"{i:<3} {titulo:<50} {int(movie['Year of Release']):<6} {movie['Movie Rating']:.1f}\")\n"
   ]
  },
  {
   "cell_type": "code",
   "execution_count": null,
   "id": "6a387524",
   "metadata": {},
   "outputs": [
    {
     "name": "stdout",
     "output_type": "stream",
     "text": [
      "Total de películas analizadas: 965\n",
      "Rango de años: 1920 - 2023\n",
      "Rating promedio general: 7.97\n",
      "Promedio de votos por película: 318,692\n",
      "Década con más películas: 2000s (212 películas)\n",
      "Década con mejor rating: 2020s (8.13)\n",
      "Película con más votos: The Shawshank Redemption (2,777,378 votos)\n"
     ]
    },
    {
     "ename": "",
     "evalue": "",
     "output_type": "error",
     "traceback": [
      "\u001b[1;31mThe Kernel crashed while executing code in the current cell or a previous cell. \n",
      "\u001b[1;31mPlease review the code in the cell(s) to identify a possible cause of the failure. \n",
      "\u001b[1;31mClick <a href='https://aka.ms/vscodeJupyterKernelCrash'>here</a> for more info. \n",
      "\u001b[1;31mView Jupyter <a href='command:jupyter.viewOutput'>log</a> for further details."
     ]
    }
   ],
   "source": [
    "total_peliculas = len(df)\n",
    "rango_anos = f\"{int(np.min(df['Year of Release'].values))} - {int(np.max(df['Year of Release'].values))}\"\n",
    "rating_promedio = np.mean(df['Movie Rating'].values)\n",
    "votos_promedio = np.mean(df['Votes'].values)\n",
    "\n",
    "print(f\"Total de películas analizadas: {total_peliculas:,}\")\n",
    "print(f\"Rango de años: {rango_anos}\")\n",
    "print(f\"Rating promedio general: {rating_promedio:.2f}\")\n",
    "print(f\"Promedio de votos por película: {votos_promedio:,.0f}\")\n",
    "\n",
    "decada_max_peliculas = peliculas_por_decada.idxmax()\n",
    "max_peliculas = peliculas_por_decada.max()\n",
    "print(f\"Década con más películas: {int(decada_max_peliculas)}s ({max_peliculas} películas)\")\n",
    "\n",
    "mejor_rating_por_decada = 0\n",
    "mejor_decada = None\n",
    "for decada in decadas_unicas:\n",
    "    mask = df['decada'] == decada\n",
    "    promedio_decada = np.mean(df.loc[mask, 'Movie Rating'].values)\n",
    "    if promedio_decada > mejor_rating_por_decada:\n",
    "        mejor_rating_por_decada = promedio_decada\n",
    "        mejor_decada = decada\n",
    "\n",
    "print(f\"Década con mejor rating: {int(mejor_decada)}s ({mejor_rating_por_decada:.2f})\")\n",
    "\n",
    "pelicula_mas_votos = df.loc[df['Votes'].idxmax()]\n",
    "print(f\"Película con más votos: {pelicula_mas_votos['Movie Name']} ({pelicula_mas_votos['Votes']:,} votos)\")"
   ]
  }
 ],
 "metadata": {
  "kernelspec": {
   "display_name": "Python 3",
   "language": "python",
   "name": "python3"
  },
  "language_info": {
   "codemirror_mode": {
    "name": "ipython",
    "version": 3
   },
   "file_extension": ".py",
   "mimetype": "text/x-python",
   "name": "python",
   "nbconvert_exporter": "python",
   "pygments_lexer": "ipython3",
   "version": "3.11.4"
  }
 },
 "nbformat": 4,
 "nbformat_minor": 5
}
