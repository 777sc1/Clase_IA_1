{
 "cells": [
  {
   "cell_type": "code",
   "execution_count": null,
   "id": "b43c80a3",
   "metadata": {},
   "outputs": [],
   "source": [
    "import numpy as np\n",
    "import pandas as pd\n",
    "import re"
   ]
  },
  {
   "cell_type": "code",
   "execution_count": null,
   "id": "805861a5",
   "metadata": {},
   "outputs": [],
   "source": [
    "# Cargar el archivo bios.csv\n",
    "try:\n",
    "    df_bios = pd.read_csv('bios.csv')\n",
    "    print(\"DataFrame bios.csv cargado con éxito.\")\n",
    "except FileNotFoundError:\n",
    "    print(\"Error: El archivo bios.csv no se encontró.\")\n",
    "    exit()"
   ]
  },
  {
   "cell_type": "code",
   "execution_count": null,
   "id": "392bcb29",
   "metadata": {},
   "outputs": [],
   "source": [
    "# Eliminar viñetas (•) de la columna 'Used name'\n",
    "print(\"\\nLimpiando la columna 'Used name'...\")\n",
    "df_bios['Used name'] = df_bios['Used name'].str.replace('•', '', regex=False)"
   ]
  },
  {
   "cell_type": "code",
   "execution_count": null,
   "id": "9a67f04a",
   "metadata": {},
   "outputs": [],
   "source": [
    "# Separar altura y peso de la columna 'Measurements'\n",
    "print(\"Separando altura y peso de la columna 'Measurements'...\")\n",
    "df_bios[['Height_cm', 'Weight_kg']] = df_bios['Measurements'].str.extract(\n",
    "    r'(\\d+)\\s*cm.*(\\d+)\\s*kg').astype(float)"
   ]
  },
  {
   "cell_type": "code",
   "execution_count": null,
   "id": "2a3a3b43",
   "metadata": {},
   "outputs": [],
   "source": [
    "# Extraer fechas de las columnas 'Born' y 'Died'\n",
    "print(\"Extrayendo fechas de nacimiento y fallecimiento...\")\n",
    "df_bios['Date of Birth'] = df_bios['Born'].str.extract(r'^(.*?) in')\n",
    "df_bios['Date of Death'] = df_bios['Died'].str.extract(r'^(.*?) in')"
   ]
  },
  {
   "cell_type": "code",
   "execution_count": null,
   "id": "be49a6bd",
   "metadata": {},
   "outputs": [],
   "source": [
    "# Extraer ciudad, región y país de la columna 'Born'\n",
    "print(\"Extrayendo ciudad, región y país de nacimiento...\")\n",
    "df_bios[['City of Birth', 'Region of Birth', 'Country of Birth']] = df_bios['Born'].str.extract(\n",
    "    r'in\\s+([a-zA-Z\\s\\(\\)]+),\\s+([a-zA-Z\\s\\(\\)]+)\\s+\\(([^)]+"
   ]
  },
  {
   "cell_type": "code",
   "execution_count": null,
   "id": "0105b0cc",
   "metadata": {},
   "outputs": [],
   "source": [
    "# Eliminar columnas que ya no son necesarias\n",
    "print(\"Eliminando columnas adicionales...\")\n",
    "columns_to_drop = [\n",
    "    'Measurements', 'Born', 'Died', 'Nick/petnames', 'Title(s)',\n",
    "    'Other names', 'Original name', 'Name order', 'Nationality'\n",
    "]\n",
    "df_bios.drop(columns=columns_to_drop, errors='ignore', inplace=True)"
   ]
  },
  {
   "cell_type": "code",
   "execution_count": null,
   "id": "bb6373aa",
   "metadata": {},
   "outputs": [],
   "source": [
    "# Renombrar columnas para mayor claridad\n",
    "df_bios = df_bios.rename(columns={\n",
    "    'Used name': 'Athlete Name',\n",
    "    'Full name': 'Full Name',\n",
    "    'NOC': 'Country Code'\n",
    "})"
   ]
  },
  {
   "cell_type": "code",
   "execution_count": null,
   "id": "2fa51b7b",
   "metadata": {},
   "outputs": [],
   "source": [
    "# Mostrar la información y las primeras filas del DataFrame limpio\n",
    "print(\"\\nInformación del DataFrame bios.csv después de la limpieza:\")\n",
    "df_bios.info()\n",
    "print(\"\\nPrimeras 5 filas del DataFrame limpio:\")\n",
    "print(df_bios.head())"
   ]
  },
  {
   "cell_type": "code",
   "execution_count": null,
   "id": "492a9bbe",
   "metadata": {},
   "outputs": [],
   "source": [
    "# Guardar el DataFrame limpio en un nuevo archivo CSV\n",
    "df_bios.to_csv('bios_cleaned.csv', index=False)\n",
    "print(\"\\nDataFrame limpio de bios guardado en 'bios_cleaned.csv'\")"
   ]
  },
  {
   "cell_type": "code",
   "execution_count": null,
   "id": "a208b263",
   "metadata": {},
   "outputs": [],
   "source": [
    "# Cargar el archivo results.csv\n",
    "try:\n",
    "    df_results = pd.read_csv('results.csv')\n",
    "    print(\"\\nDataFrame results.csv cargado con éxito.\")\n",
    "except FileNotFoundError:\n",
    "    print(\"Error: El archivo results.csv no se encontró.\")\n",
    "    exit()"
   ]
  },
  {
   "cell_type": "code",
   "execution_count": null,
   "id": "d9348b40",
   "metadata": {},
   "outputs": [],
   "source": [
    "# Mostrar información inicial del DataFrame\n",
    "print(\"\\nInformación inicial de results.csv:\")\n",
    "df_results.info()"
   ]
  },
  {
   "cell_type": "code",
   "execution_count": null,
   "id": "2ab23478",
   "metadata": {},
   "outputs": [],
   "source": [
    "# Separar el año y el tipo de la columna 'Games'\n",
    "print(\"\\nSeparando año y tipo de la columna 'Games'...\")\n",
    "# Usamos .str.split() para dividir la columna 'Games' por el primer espacio\n",
    "split_games = df_results['Games'].str.split(' ', n=1, expand=True)\n",
    "\n",
    "# Asignamos las nuevas columnas\n",
    "df_results['Games_Year'] = pd.to_numeric(split_games[0], errors='coerce')\n",
    "df_results['Games_Season'] = split_games[1].str.replace(' Olympics', '', regex=False)"
   ]
  },
  {
   "cell_type": "code",
   "execution_count": null,
   "id": "a32c3d01",
   "metadata": {},
   "outputs": [],
   "source": [
    "# Separar la columna de empates (tied) de la columna 'Pos'\n",
    "print(\"Separando estado de empate de la columna 'Pos'...\")\n",
    "df_results['is_tied'] = df_results['Pos'].str.contains('=', na=False)\n",
    "df_results['Pos'] = df_results['Pos'].str.replace('=', '', regex=False)"
   ]
  },
  {
   "cell_type": "code",
   "execution_count": null,
   "id": "b48bb3c8",
   "metadata": {},
   "outputs": [],
   "source": [
    "# Convertir en NaN los valores no numéricos en la columna 'Pos'\n",
    "print(\"Convirtiendo valores no numéricos en 'Pos' a NaN...\")\n",
    "df_results['Pos'] = pd.to_numeric(df_results['Pos'], errors='coerce')"
   ]
  },
  {
   "cell_type": "code",
   "execution_count": null,
   "id": "aebc27d1",
   "metadata": {},
   "outputs": [],
   "source": [
    "# Eliminar la columna sin nombre (Unnamed: 7)\n",
    "print(\"Eliminando la columna sin nombre 'Unnamed: 7'...\")\n",
    "df_results.drop(columns=['Unnamed: 7'], inplace=True, errors='ignore')"
   ]
  },
  {
   "cell_type": "code",
   "execution_count": null,
   "id": "e660efdc",
   "metadata": {},
   "outputs": [],
   "source": [
    "# Reordenar las columnas para una mejor visualización\n",
    "print(\"Reordenando las columnas...\")\n",
    "column_order = [\n",
    "    'Games_Year', 'Games_Season', 'Event', 'Team', 'Pos', 'is_tied',\n",
    "    'Medal', 'As', 'athlete_id', 'NOC', 'Discipline', 'Nationality'\n",
    "]\n",
    "df_results = df_results.reindex(columns=column_order)"
   ]
  },
  {
   "cell_type": "code",
   "execution_count": null,
   "id": "7e4c5d6c",
   "metadata": {},
   "outputs": [],
   "source": [
    "# Mostrar la información y las primeras filas del DataFrame limpio\n",
    "print(\"\\nInformación del DataFrame results.csv después de la limpieza:\")\n",
    "df_results.info()\n",
    "print(\"\\nPrimeras 5 filas del DataFrame limpio:\")\n",
    "print(df_results.head())"
   ]
  },
  {
   "cell_type": "code",
   "execution_count": null,
   "id": "8dbaa051",
   "metadata": {},
   "outputs": [],
   "source": [
    "# Guardar el DataFrame limpio en un nuevo archivo CSV\n",
    "df_results.to_csv('results_cleaned.csv', index=False)\n",
    "print(\"\\nDataFrame limpio de results guardado en 'results_cleaned.csv'\")"
   ]
  }
 ],
 "metadata": {
  "kernelspec": {
   "display_name": "menv (3.12.10)",
   "language": "python",
   "name": "python3"
  },
  "language_info": {
   "name": "python",
   "version": "3.12.10"
  }
 },
 "nbformat": 4,
 "nbformat_minor": 5
}
