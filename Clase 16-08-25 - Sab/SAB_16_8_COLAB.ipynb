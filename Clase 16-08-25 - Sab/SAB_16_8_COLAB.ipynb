{
  "nbformat": 4,
  "nbformat_minor": 0,
  "metadata": {
    "colab": {
      "provenance": []
    },
    "kernelspec": {
      "name": "python3",
      "display_name": "Python 3"
    },
    "language_info": {
      "name": "python"
    }
  },
  "cells": [
    {
      "cell_type": "markdown",
      "source": [],
      "metadata": {
        "id": "2U4348pPqK7q"
      }
    },
    {
      "cell_type": "markdown",
      "source": [
        "**SERIES DE TIEMPO EN DATAFRAME"
      ],
      "metadata": {
        "id": "LG00kpF8onqb"
      }
    },
    {
      "cell_type": "code",
      "execution_count": 13,
      "metadata": {
        "id": "vFoXs-SyoiHQ"
      },
      "outputs": [],
      "source": [
        "import pandas as pd\n",
        "import numpy as np\n",
        "from datetime import datetime, timedelta\n",
        "import pytz"
      ]
    },
    {
      "cell_type": "code",
      "source": [
        "zona=pytz.timezone(\"America/Lima\")\n",
        "hoy=datetime.now(zona)"
      ],
      "metadata": {
        "id": "rSsR4jD_oyra"
      },
      "execution_count": 9,
      "outputs": []
    },
    {
      "cell_type": "code",
      "source": [
        "hoy.year"
      ],
      "metadata": {
        "colab": {
          "base_uri": "https://localhost:8080/"
        },
        "id": "DR4XXKpBscvR",
        "outputId": "fc715f35-5b4e-47d2-bf42-de0af8b4a29e"
      },
      "execution_count": 10,
      "outputs": [
        {
          "output_type": "execute_result",
          "data": {
            "text/plain": [
              "2025"
            ]
          },
          "metadata": {},
          "execution_count": 10
        }
      ]
    },
    {
      "cell_type": "code",
      "source": [
        "inicio_fecha=datetime(2018,2,7)\n",
        "inicio_fecha-timedelta(12)"
      ],
      "metadata": {
        "colab": {
          "base_uri": "https://localhost:8080/"
        },
        "id": "FbGwQyoRsqi4",
        "outputId": "570c3cd0-2780-439f-fbc6-717efb8c0372"
      },
      "execution_count": 11,
      "outputs": [
        {
          "output_type": "execute_result",
          "data": {
            "text/plain": [
              "datetime.datetime(2018, 1, 26, 0, 0)"
            ]
          },
          "metadata": {},
          "execution_count": 11
        }
      ]
    },
    {
      "cell_type": "markdown",
      "source": [
        "Conversiones tipo de variable str a dato horario"
      ],
      "metadata": {
        "id": "-GyXj6WBtFUZ"
      }
    },
    {
      "cell_type": "code",
      "source": [
        "valor=\"2018-01-7\"\n",
        "datetime.strptime(valor,\"%Y-%m-%d\")"
      ],
      "metadata": {
        "colab": {
          "base_uri": "https://localhost:8080/"
        },
        "id": "LaSW26K5s_0A",
        "outputId": "e587f5d9-765f-4296-8e56-c26d9157e0c5"
      },
      "execution_count": 12,
      "outputs": [
        {
          "output_type": "execute_result",
          "data": {
            "text/plain": [
              "datetime.datetime(2018, 1, 7, 0, 0)"
            ]
          },
          "metadata": {},
          "execution_count": 12
        }
      ]
    },
    {
      "cell_type": "code",
      "source": [
        "fechas=[datetime(2012,1,3),\n",
        "        datetime(2012,1,4),\n",
        "        datetime(2012,1,7),\n",
        "        datetime(2012,1,8),\n",
        "        datetime(2012,1,9),\n",
        "        datetime(2012,1,10),\n",
        "        ]\n",
        "ts=pd.Series(np.random.standard_normal(6),index=fechas)"
      ],
      "metadata": {
        "id": "y_wg72Llt1-Y"
      },
      "execution_count": 35,
      "outputs": []
    },
    {
      "cell_type": "markdown",
      "source": [
        "SELECCION DE VALORES DENTRO DEL DF"
      ],
      "metadata": {
        "id": "lPfGXmccvPZH"
      }
    },
    {
      "cell_type": "code",
      "source": [
        "ts[\"2012-01-04\"]"
      ],
      "metadata": {
        "colab": {
          "base_uri": "https://localhost:8080/"
        },
        "id": "jpkxqeKKvDLg",
        "outputId": "aebb05c4-0aa4-4ee8-c1f5-50ee7af9f7e4"
      },
      "execution_count": 17,
      "outputs": [
        {
          "output_type": "execute_result",
          "data": {
            "text/plain": [
              "np.float64(-0.1450831273615309)"
            ]
          },
          "metadata": {},
          "execution_count": 17
        }
      ]
    },
    {
      "cell_type": "markdown",
      "source": [
        "VALORES MAS LARGOS DE SERIES DE TIEMPO"
      ],
      "metadata": {
        "id": "q1X3hSo0vsY_"
      }
    },
    {
      "cell_type": "code",
      "source": [
        "large_ts=pd.Series(np.random.standard_normal(1000),\n",
        "                    index=pd.date_range(\"2008-01-10\",\n",
        "                    periods=1000)\n",
        "                   )\n",
        "large_ts[\"2009-08\"]\n",
        "large_ts[\"2009\"]"
      ],
      "metadata": {
        "colab": {
          "base_uri": "https://localhost:8080/",
          "height": 1000
        },
        "collapsed": true,
        "id": "tJ9ES_hC4wjd",
        "outputId": "c3f27e68-64ca-4b26-d579-67537cee5827"
      },
      "execution_count": 21,
      "outputs": [
        {
          "output_type": "execute_result",
          "data": {
            "text/plain": [
              "2009-08-01    0.394750\n",
              "2009-08-02   -1.794238\n",
              "2009-08-03    0.714160\n",
              "2009-08-04    1.187003\n",
              "2009-08-05    0.804363\n",
              "2009-08-06    1.552351\n",
              "2009-08-07   -0.970025\n",
              "2009-08-08   -1.368155\n",
              "2009-08-09    0.734601\n",
              "2009-08-10   -1.042010\n",
              "2009-08-11    0.876942\n",
              "2009-08-12   -0.590901\n",
              "2009-08-13    0.733382\n",
              "2009-08-14   -0.640079\n",
              "2009-08-15    0.477456\n",
              "2009-08-16    0.655175\n",
              "2009-08-17   -0.517900\n",
              "2009-08-18    0.657042\n",
              "2009-08-19   -0.574359\n",
              "2009-08-20   -0.027443\n",
              "2009-08-21    0.873371\n",
              "2009-08-22   -0.465049\n",
              "2009-08-23   -0.256925\n",
              "2009-08-24    0.361969\n",
              "2009-08-25   -0.284510\n",
              "2009-08-26   -0.603471\n",
              "2009-08-27    0.282166\n",
              "2009-08-28   -0.373219\n",
              "2009-08-29    1.776448\n",
              "2009-08-30    1.113410\n",
              "2009-08-31    0.294692\n",
              "Freq: D, dtype: float64"
            ],
            "text/html": [
              "<div>\n",
              "<style scoped>\n",
              "    .dataframe tbody tr th:only-of-type {\n",
              "        vertical-align: middle;\n",
              "    }\n",
              "\n",
              "    .dataframe tbody tr th {\n",
              "        vertical-align: top;\n",
              "    }\n",
              "\n",
              "    .dataframe thead th {\n",
              "        text-align: right;\n",
              "    }\n",
              "</style>\n",
              "<table border=\"1\" class=\"dataframe\">\n",
              "  <thead>\n",
              "    <tr style=\"text-align: right;\">\n",
              "      <th></th>\n",
              "      <th>0</th>\n",
              "    </tr>\n",
              "  </thead>\n",
              "  <tbody>\n",
              "    <tr>\n",
              "      <th>2009-08-01</th>\n",
              "      <td>0.394750</td>\n",
              "    </tr>\n",
              "    <tr>\n",
              "      <th>2009-08-02</th>\n",
              "      <td>-1.794238</td>\n",
              "    </tr>\n",
              "    <tr>\n",
              "      <th>2009-08-03</th>\n",
              "      <td>0.714160</td>\n",
              "    </tr>\n",
              "    <tr>\n",
              "      <th>2009-08-04</th>\n",
              "      <td>1.187003</td>\n",
              "    </tr>\n",
              "    <tr>\n",
              "      <th>2009-08-05</th>\n",
              "      <td>0.804363</td>\n",
              "    </tr>\n",
              "    <tr>\n",
              "      <th>2009-08-06</th>\n",
              "      <td>1.552351</td>\n",
              "    </tr>\n",
              "    <tr>\n",
              "      <th>2009-08-07</th>\n",
              "      <td>-0.970025</td>\n",
              "    </tr>\n",
              "    <tr>\n",
              "      <th>2009-08-08</th>\n",
              "      <td>-1.368155</td>\n",
              "    </tr>\n",
              "    <tr>\n",
              "      <th>2009-08-09</th>\n",
              "      <td>0.734601</td>\n",
              "    </tr>\n",
              "    <tr>\n",
              "      <th>2009-08-10</th>\n",
              "      <td>-1.042010</td>\n",
              "    </tr>\n",
              "    <tr>\n",
              "      <th>2009-08-11</th>\n",
              "      <td>0.876942</td>\n",
              "    </tr>\n",
              "    <tr>\n",
              "      <th>2009-08-12</th>\n",
              "      <td>-0.590901</td>\n",
              "    </tr>\n",
              "    <tr>\n",
              "      <th>2009-08-13</th>\n",
              "      <td>0.733382</td>\n",
              "    </tr>\n",
              "    <tr>\n",
              "      <th>2009-08-14</th>\n",
              "      <td>-0.640079</td>\n",
              "    </tr>\n",
              "    <tr>\n",
              "      <th>2009-08-15</th>\n",
              "      <td>0.477456</td>\n",
              "    </tr>\n",
              "    <tr>\n",
              "      <th>2009-08-16</th>\n",
              "      <td>0.655175</td>\n",
              "    </tr>\n",
              "    <tr>\n",
              "      <th>2009-08-17</th>\n",
              "      <td>-0.517900</td>\n",
              "    </tr>\n",
              "    <tr>\n",
              "      <th>2009-08-18</th>\n",
              "      <td>0.657042</td>\n",
              "    </tr>\n",
              "    <tr>\n",
              "      <th>2009-08-19</th>\n",
              "      <td>-0.574359</td>\n",
              "    </tr>\n",
              "    <tr>\n",
              "      <th>2009-08-20</th>\n",
              "      <td>-0.027443</td>\n",
              "    </tr>\n",
              "    <tr>\n",
              "      <th>2009-08-21</th>\n",
              "      <td>0.873371</td>\n",
              "    </tr>\n",
              "    <tr>\n",
              "      <th>2009-08-22</th>\n",
              "      <td>-0.465049</td>\n",
              "    </tr>\n",
              "    <tr>\n",
              "      <th>2009-08-23</th>\n",
              "      <td>-0.256925</td>\n",
              "    </tr>\n",
              "    <tr>\n",
              "      <th>2009-08-24</th>\n",
              "      <td>0.361969</td>\n",
              "    </tr>\n",
              "    <tr>\n",
              "      <th>2009-08-25</th>\n",
              "      <td>-0.284510</td>\n",
              "    </tr>\n",
              "    <tr>\n",
              "      <th>2009-08-26</th>\n",
              "      <td>-0.603471</td>\n",
              "    </tr>\n",
              "    <tr>\n",
              "      <th>2009-08-27</th>\n",
              "      <td>0.282166</td>\n",
              "    </tr>\n",
              "    <tr>\n",
              "      <th>2009-08-28</th>\n",
              "      <td>-0.373219</td>\n",
              "    </tr>\n",
              "    <tr>\n",
              "      <th>2009-08-29</th>\n",
              "      <td>1.776448</td>\n",
              "    </tr>\n",
              "    <tr>\n",
              "      <th>2009-08-30</th>\n",
              "      <td>1.113410</td>\n",
              "    </tr>\n",
              "    <tr>\n",
              "      <th>2009-08-31</th>\n",
              "      <td>0.294692</td>\n",
              "    </tr>\n",
              "  </tbody>\n",
              "</table>\n",
              "</div><br><label><b>dtype:</b> float64</label>"
            ]
          },
          "metadata": {},
          "execution_count": 21
        }
      ]
    },
    {
      "cell_type": "code",
      "source": [
        "large_ts[datetime(2009,2,7):]"
      ],
      "metadata": {
        "colab": {
          "base_uri": "https://localhost:8080/",
          "height": 458
        },
        "collapsed": true,
        "id": "Vhw-mPFq5tR0",
        "outputId": "38888d87-a00f-42eb-d4b4-62aa85228775"
      },
      "execution_count": 22,
      "outputs": [
        {
          "output_type": "execute_result",
          "data": {
            "text/plain": [
              "2009-02-07    0.911131\n",
              "2009-02-08    0.423789\n",
              "2009-02-09   -0.670522\n",
              "2009-02-10   -0.058072\n",
              "2009-02-11   -1.081870\n",
              "                ...   \n",
              "2010-10-01   -0.264419\n",
              "2010-10-02    0.642473\n",
              "2010-10-03    1.077577\n",
              "2010-10-04    1.224099\n",
              "2010-10-05   -1.607847\n",
              "Freq: D, Length: 606, dtype: float64"
            ],
            "text/html": [
              "<div>\n",
              "<style scoped>\n",
              "    .dataframe tbody tr th:only-of-type {\n",
              "        vertical-align: middle;\n",
              "    }\n",
              "\n",
              "    .dataframe tbody tr th {\n",
              "        vertical-align: top;\n",
              "    }\n",
              "\n",
              "    .dataframe thead th {\n",
              "        text-align: right;\n",
              "    }\n",
              "</style>\n",
              "<table border=\"1\" class=\"dataframe\">\n",
              "  <thead>\n",
              "    <tr style=\"text-align: right;\">\n",
              "      <th></th>\n",
              "      <th>0</th>\n",
              "    </tr>\n",
              "  </thead>\n",
              "  <tbody>\n",
              "    <tr>\n",
              "      <th>2009-02-07</th>\n",
              "      <td>0.911131</td>\n",
              "    </tr>\n",
              "    <tr>\n",
              "      <th>2009-02-08</th>\n",
              "      <td>0.423789</td>\n",
              "    </tr>\n",
              "    <tr>\n",
              "      <th>2009-02-09</th>\n",
              "      <td>-0.670522</td>\n",
              "    </tr>\n",
              "    <tr>\n",
              "      <th>2009-02-10</th>\n",
              "      <td>-0.058072</td>\n",
              "    </tr>\n",
              "    <tr>\n",
              "      <th>2009-02-11</th>\n",
              "      <td>-1.081870</td>\n",
              "    </tr>\n",
              "    <tr>\n",
              "      <th>...</th>\n",
              "      <td>...</td>\n",
              "    </tr>\n",
              "    <tr>\n",
              "      <th>2010-10-01</th>\n",
              "      <td>-0.264419</td>\n",
              "    </tr>\n",
              "    <tr>\n",
              "      <th>2010-10-02</th>\n",
              "      <td>0.642473</td>\n",
              "    </tr>\n",
              "    <tr>\n",
              "      <th>2010-10-03</th>\n",
              "      <td>1.077577</td>\n",
              "    </tr>\n",
              "    <tr>\n",
              "      <th>2010-10-04</th>\n",
              "      <td>1.224099</td>\n",
              "    </tr>\n",
              "    <tr>\n",
              "      <th>2010-10-05</th>\n",
              "      <td>-1.607847</td>\n",
              "    </tr>\n",
              "  </tbody>\n",
              "</table>\n",
              "<p>606 rows × 1 columns</p>\n",
              "</div><br><label><b>dtype:</b> float64</label>"
            ]
          },
          "metadata": {},
          "execution_count": 22
        }
      ]
    },
    {
      "cell_type": "code",
      "source": [
        "large_ts[datetime(2009,2,7):datetime(2010,2,7)]"
      ],
      "metadata": {
        "colab": {
          "base_uri": "https://localhost:8080/",
          "height": 458
        },
        "id": "G_FjsZvy55sU",
        "outputId": "e11f44e6-679a-4622-b305-51081eacb9be"
      },
      "execution_count": 23,
      "outputs": [
        {
          "output_type": "execute_result",
          "data": {
            "text/plain": [
              "2009-02-07    0.911131\n",
              "2009-02-08    0.423789\n",
              "2009-02-09   -0.670522\n",
              "2009-02-10   -0.058072\n",
              "2009-02-11   -1.081870\n",
              "                ...   \n",
              "2010-02-03    1.060776\n",
              "2010-02-04    0.418573\n",
              "2010-02-05   -0.299597\n",
              "2010-02-06    0.136998\n",
              "2010-02-07   -1.743858\n",
              "Freq: D, Length: 366, dtype: float64"
            ],
            "text/html": [
              "<div>\n",
              "<style scoped>\n",
              "    .dataframe tbody tr th:only-of-type {\n",
              "        vertical-align: middle;\n",
              "    }\n",
              "\n",
              "    .dataframe tbody tr th {\n",
              "        vertical-align: top;\n",
              "    }\n",
              "\n",
              "    .dataframe thead th {\n",
              "        text-align: right;\n",
              "    }\n",
              "</style>\n",
              "<table border=\"1\" class=\"dataframe\">\n",
              "  <thead>\n",
              "    <tr style=\"text-align: right;\">\n",
              "      <th></th>\n",
              "      <th>0</th>\n",
              "    </tr>\n",
              "  </thead>\n",
              "  <tbody>\n",
              "    <tr>\n",
              "      <th>2009-02-07</th>\n",
              "      <td>0.911131</td>\n",
              "    </tr>\n",
              "    <tr>\n",
              "      <th>2009-02-08</th>\n",
              "      <td>0.423789</td>\n",
              "    </tr>\n",
              "    <tr>\n",
              "      <th>2009-02-09</th>\n",
              "      <td>-0.670522</td>\n",
              "    </tr>\n",
              "    <tr>\n",
              "      <th>2009-02-10</th>\n",
              "      <td>-0.058072</td>\n",
              "    </tr>\n",
              "    <tr>\n",
              "      <th>2009-02-11</th>\n",
              "      <td>-1.081870</td>\n",
              "    </tr>\n",
              "    <tr>\n",
              "      <th>...</th>\n",
              "      <td>...</td>\n",
              "    </tr>\n",
              "    <tr>\n",
              "      <th>2010-02-03</th>\n",
              "      <td>1.060776</td>\n",
              "    </tr>\n",
              "    <tr>\n",
              "      <th>2010-02-04</th>\n",
              "      <td>0.418573</td>\n",
              "    </tr>\n",
              "    <tr>\n",
              "      <th>2010-02-05</th>\n",
              "      <td>-0.299597</td>\n",
              "    </tr>\n",
              "    <tr>\n",
              "      <th>2010-02-06</th>\n",
              "      <td>0.136998</td>\n",
              "    </tr>\n",
              "    <tr>\n",
              "      <th>2010-02-07</th>\n",
              "      <td>-1.743858</td>\n",
              "    </tr>\n",
              "  </tbody>\n",
              "</table>\n",
              "<p>366 rows × 1 columns</p>\n",
              "</div><br><label><b>dtype:</b> float64</label>"
            ]
          },
          "metadata": {},
          "execution_count": 23
        }
      ]
    },
    {
      "cell_type": "code",
      "source": [
        "large_ts.truncate(before=\"2009-08-07\")"
      ],
      "metadata": {
        "colab": {
          "base_uri": "https://localhost:8080/",
          "height": 458
        },
        "collapsed": true,
        "id": "fWVmQtA36BJE",
        "outputId": "999bb130-c684-4e61-d7a6-2d010df9179f"
      },
      "execution_count": 26,
      "outputs": [
        {
          "output_type": "execute_result",
          "data": {
            "text/plain": [
              "2009-08-07   -0.970025\n",
              "2009-08-08   -1.368155\n",
              "2009-08-09    0.734601\n",
              "2009-08-10   -1.042010\n",
              "2009-08-11    0.876942\n",
              "                ...   \n",
              "2010-10-01   -0.264419\n",
              "2010-10-02    0.642473\n",
              "2010-10-03    1.077577\n",
              "2010-10-04    1.224099\n",
              "2010-10-05   -1.607847\n",
              "Freq: D, Length: 425, dtype: float64"
            ],
            "text/html": [
              "<div>\n",
              "<style scoped>\n",
              "    .dataframe tbody tr th:only-of-type {\n",
              "        vertical-align: middle;\n",
              "    }\n",
              "\n",
              "    .dataframe tbody tr th {\n",
              "        vertical-align: top;\n",
              "    }\n",
              "\n",
              "    .dataframe thead th {\n",
              "        text-align: right;\n",
              "    }\n",
              "</style>\n",
              "<table border=\"1\" class=\"dataframe\">\n",
              "  <thead>\n",
              "    <tr style=\"text-align: right;\">\n",
              "      <th></th>\n",
              "      <th>0</th>\n",
              "    </tr>\n",
              "  </thead>\n",
              "  <tbody>\n",
              "    <tr>\n",
              "      <th>2009-08-07</th>\n",
              "      <td>-0.970025</td>\n",
              "    </tr>\n",
              "    <tr>\n",
              "      <th>2009-08-08</th>\n",
              "      <td>-1.368155</td>\n",
              "    </tr>\n",
              "    <tr>\n",
              "      <th>2009-08-09</th>\n",
              "      <td>0.734601</td>\n",
              "    </tr>\n",
              "    <tr>\n",
              "      <th>2009-08-10</th>\n",
              "      <td>-1.042010</td>\n",
              "    </tr>\n",
              "    <tr>\n",
              "      <th>2009-08-11</th>\n",
              "      <td>0.876942</td>\n",
              "    </tr>\n",
              "    <tr>\n",
              "      <th>...</th>\n",
              "      <td>...</td>\n",
              "    </tr>\n",
              "    <tr>\n",
              "      <th>2010-10-01</th>\n",
              "      <td>-0.264419</td>\n",
              "    </tr>\n",
              "    <tr>\n",
              "      <th>2010-10-02</th>\n",
              "      <td>0.642473</td>\n",
              "    </tr>\n",
              "    <tr>\n",
              "      <th>2010-10-03</th>\n",
              "      <td>1.077577</td>\n",
              "    </tr>\n",
              "    <tr>\n",
              "      <th>2010-10-04</th>\n",
              "      <td>1.224099</td>\n",
              "    </tr>\n",
              "    <tr>\n",
              "      <th>2010-10-05</th>\n",
              "      <td>-1.607847</td>\n",
              "    </tr>\n",
              "  </tbody>\n",
              "</table>\n",
              "<p>425 rows × 1 columns</p>\n",
              "</div><br><label><b>dtype:</b> float64</label>"
            ]
          },
          "metadata": {},
          "execution_count": 26
        }
      ]
    },
    {
      "cell_type": "markdown",
      "source": [
        "ENCONTRAR VALORES DUPLICADOS EN INDICES"
      ],
      "metadata": {
        "id": "7AY-S48L7Cfs"
      }
    },
    {
      "cell_type": "code",
      "source": [
        "\n",
        "fecha=pd.DatetimeIndex([\"2008-08-07\",\n",
        "                        \"2008-08-08\",\"2008-08-08\",\n",
        "                        \"2008-08-10\"\n",
        "])\n",
        "\n",
        "dp_ts=pd.Series(np.arange(4),index=fecha)\n",
        "dp_ts[\"2008-08-08\"]\n",
        "#dp_ts.index.is_unique"
      ],
      "metadata": {
        "colab": {
          "base_uri": "https://localhost:8080/",
          "height": 147
        },
        "id": "h5he--am61uk",
        "outputId": "73e45679-2ffd-46a9-9595-45d8d54c80ea"
      },
      "execution_count": 33,
      "outputs": [
        {
          "output_type": "execute_result",
          "data": {
            "text/plain": [
              "2008-08-08    1\n",
              "2008-08-08    2\n",
              "dtype: int64"
            ],
            "text/html": [
              "<div>\n",
              "<style scoped>\n",
              "    .dataframe tbody tr th:only-of-type {\n",
              "        vertical-align: middle;\n",
              "    }\n",
              "\n",
              "    .dataframe tbody tr th {\n",
              "        vertical-align: top;\n",
              "    }\n",
              "\n",
              "    .dataframe thead th {\n",
              "        text-align: right;\n",
              "    }\n",
              "</style>\n",
              "<table border=\"1\" class=\"dataframe\">\n",
              "  <thead>\n",
              "    <tr style=\"text-align: right;\">\n",
              "      <th></th>\n",
              "      <th>0</th>\n",
              "    </tr>\n",
              "  </thead>\n",
              "  <tbody>\n",
              "    <tr>\n",
              "      <th>2008-08-08</th>\n",
              "      <td>1</td>\n",
              "    </tr>\n",
              "    <tr>\n",
              "      <th>2008-08-08</th>\n",
              "      <td>2</td>\n",
              "    </tr>\n",
              "  </tbody>\n",
              "</table>\n",
              "</div><br><label><b>dtype:</b> int64</label>"
            ]
          },
          "metadata": {},
          "execution_count": 33
        }
      ]
    },
    {
      "cell_type": "markdown",
      "source": [
        "Rangos de fechas frecuencias y cambios"
      ],
      "metadata": {
        "id": "NeUY44Rc8DJE"
      }
    },
    {
      "cell_type": "code",
      "source": [
        "ts"
      ],
      "metadata": {
        "colab": {
          "base_uri": "https://localhost:8080/",
          "height": 272
        },
        "id": "1sMkXcFO8Pfs",
        "outputId": "86aa5aca-b4eb-43a8-dcc5-6995c01e282c"
      },
      "execution_count": 36,
      "outputs": [
        {
          "output_type": "execute_result",
          "data": {
            "text/plain": [
              "2012-01-03   -0.038439\n",
              "2012-01-04    0.697024\n",
              "2012-01-07    0.968498\n",
              "2012-01-08    0.702550\n",
              "2012-01-09   -0.097408\n",
              "2012-01-10    0.897726\n",
              "dtype: float64"
            ],
            "text/html": [
              "<div>\n",
              "<style scoped>\n",
              "    .dataframe tbody tr th:only-of-type {\n",
              "        vertical-align: middle;\n",
              "    }\n",
              "\n",
              "    .dataframe tbody tr th {\n",
              "        vertical-align: top;\n",
              "    }\n",
              "\n",
              "    .dataframe thead th {\n",
              "        text-align: right;\n",
              "    }\n",
              "</style>\n",
              "<table border=\"1\" class=\"dataframe\">\n",
              "  <thead>\n",
              "    <tr style=\"text-align: right;\">\n",
              "      <th></th>\n",
              "      <th>0</th>\n",
              "    </tr>\n",
              "  </thead>\n",
              "  <tbody>\n",
              "    <tr>\n",
              "      <th>2012-01-03</th>\n",
              "      <td>-0.038439</td>\n",
              "    </tr>\n",
              "    <tr>\n",
              "      <th>2012-01-04</th>\n",
              "      <td>0.697024</td>\n",
              "    </tr>\n",
              "    <tr>\n",
              "      <th>2012-01-07</th>\n",
              "      <td>0.968498</td>\n",
              "    </tr>\n",
              "    <tr>\n",
              "      <th>2012-01-08</th>\n",
              "      <td>0.702550</td>\n",
              "    </tr>\n",
              "    <tr>\n",
              "      <th>2012-01-09</th>\n",
              "      <td>-0.097408</td>\n",
              "    </tr>\n",
              "    <tr>\n",
              "      <th>2012-01-10</th>\n",
              "      <td>0.897726</td>\n",
              "    </tr>\n",
              "  </tbody>\n",
              "</table>\n",
              "</div><br><label><b>dtype:</b> float64</label>"
            ]
          },
          "metadata": {},
          "execution_count": 36
        }
      ]
    },
    {
      "cell_type": "code",
      "source": [
        "muestrear=ts.resample(\"D\") #iNDCICACION LA FRECUENCIA : D : DIARY\n",
        "muestrear"
      ],
      "metadata": {
        "colab": {
          "base_uri": "https://localhost:8080/"
        },
        "id": "h_ezT3ls8iiN",
        "outputId": "c73396ce-1f38-40fd-ffb1-278933ed2664"
      },
      "execution_count": 38,
      "outputs": [
        {
          "output_type": "execute_result",
          "data": {
            "text/plain": [
              "<pandas.core.resample.DatetimeIndexResampler object at 0x7c3aaea7ffd0>"
            ]
          },
          "metadata": {},
          "execution_count": 38
        }
      ]
    },
    {
      "cell_type": "code",
      "source": [],
      "metadata": {
        "id": "FT8sApkk8ziT"
      },
      "execution_count": null,
      "outputs": []
    }
  ]
}