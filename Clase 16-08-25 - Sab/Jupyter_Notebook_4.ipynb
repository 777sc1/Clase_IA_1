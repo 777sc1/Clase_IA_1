{
 "cells": [
  {
   "cell_type": "code",
   "execution_count": null,
   "id": "c64c9920",
   "metadata": {},
   "outputs": [],
   "source": []
  }
 ],
 "metadata": {
  "language_info": {
   "name": "python"
  }
 },
 "nbformat": 4,
 "nbformat_minor": 5
}
