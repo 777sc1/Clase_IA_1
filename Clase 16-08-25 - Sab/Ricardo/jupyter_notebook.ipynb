{
 "cells": [
  {
   "cell_type": "code",
   "execution_count": null,
   "id": "343b32e2",
   "metadata": {},
   "outputs": [],
   "source": [
    "import pandas as pd\n",
    "\n",
    "df = pd.read_csv(\"Absenteeism-data.csv\")\n",
    "df.drop(columns=[\"ID\"], inplace=True)\n",
    "df.head()\n"
   ]
  },
  {
   "cell_type": "code",
   "execution_count": null,
   "id": "56785a77",
   "metadata": {},
   "outputs": [],
   "source": [
    "dummies = pd.get_dummies(df[\"Reason for Absence\"], prefix=\"Grupo\", drop_first=False)\n",
    "df[\"Group_1\"] = dummies.loc[:, \"Grupo_1\":\"Grupo_14\"].max(axis=1)\n",
    "df[\"Group_2\"] = dummies.loc[:, \"Grupo_15\":\"Grupo_17\"].max(axis=1)\n",
    "df[\"Group_3\"] = dummies.loc[:, \"Grupo_18\":\"Grupo_21\"].max(axis=1)\n",
    "df[\"Group_4\"] = dummies.loc[:, \"Grupo_22\":\"Grupo_28\"].max(axis=1)\n"
   ]
  }
 ],
 "metadata": {
  "kernelspec": {
   "display_name": "Python 3",
   "language": "python",
   "name": "python3"
  },
  "language_info": {
   "name": "python",
   "version": "3.11.9"
  }
 },
 "nbformat": 4,
 "nbformat_minor": 5
}
