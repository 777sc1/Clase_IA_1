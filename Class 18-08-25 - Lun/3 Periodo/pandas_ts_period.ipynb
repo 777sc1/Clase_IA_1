{
 "cells": [
  {
   "cell_type": "markdown",
   "metadata": {},
   "source": [
    "<h1 style=\"color:blue\" align=\"center\">Pandas Time Series : Period y PeriodIndex</h1>"
   ]
  },
  {
   "cell_type": "markdown",
   "metadata": {},
   "source": [
    "<h3 style=\"color:purple\">Yearly Period</h3>"
   ]
  },
  {
   "cell_type": "code",
   "execution_count": 4,
   "metadata": {
    "collapsed": false,
    "scrolled": true
   },
   "outputs": [
    {
     "data": {
      "text/plain": [
       "Period('2017', 'Y-DEC')"
      ]
     },
     "execution_count": 4,
     "metadata": {},
     "output_type": "execute_result"
    }
   ],
   "source": [
    "import pandas as pd\n",
    "y = pd.Period('2017')\n",
    "y"
   ]
  },
  {
   "cell_type": "code",
   "execution_count": 5,
   "metadata": {
    "collapsed": false
   },
   "outputs": [
    {
     "data": {
      "text/plain": [
       "Timestamp('2017-01-01 00:00:00')"
      ]
     },
     "execution_count": 5,
     "metadata": {},
     "output_type": "execute_result"
    }
   ],
   "source": [
    "y.start_time"
   ]
  },
  {
   "cell_type": "code",
   "execution_count": 6,
   "metadata": {
    "collapsed": false,
    "scrolled": true
   },
   "outputs": [
    {
     "data": {
      "text/plain": [
       "Timestamp('2017-12-31 23:59:59.999999999')"
      ]
     },
     "execution_count": 6,
     "metadata": {},
     "output_type": "execute_result"
    }
   ],
   "source": [
    "y.end_time"
   ]
  },
  {
   "cell_type": "code",
   "execution_count": 7,
   "metadata": {
    "collapsed": false
   },
   "outputs": [
    {
     "data": {
      "text/plain": [
       "False"
      ]
     },
     "execution_count": 7,
     "metadata": {},
     "output_type": "execute_result"
    }
   ],
   "source": [
    "y.is_leap_year"
   ]
  },
  {
   "cell_type": "markdown",
   "metadata": {},
   "source": [
    "<h3 style=\"color:purple\">Monthly Period</h3>"
   ]
  },
  {
   "cell_type": "code",
   "execution_count": 8,
   "metadata": {
    "collapsed": false
   },
   "outputs": [
    {
     "data": {
      "text/plain": [
       "Period('2017-12', 'M')"
      ]
     },
     "execution_count": 8,
     "metadata": {},
     "output_type": "execute_result"
    }
   ],
   "source": [
    "m = pd.Period('2017-12')\n",
    "m"
   ]
  },
  {
   "cell_type": "code",
   "execution_count": 9,
   "metadata": {
    "collapsed": false
   },
   "outputs": [
    {
     "data": {
      "text/plain": [
       "Timestamp('2017-12-01 00:00:00')"
      ]
     },
     "execution_count": 9,
     "metadata": {},
     "output_type": "execute_result"
    }
   ],
   "source": [
    "m.start_time"
   ]
  },
  {
   "cell_type": "code",
   "execution_count": 10,
   "metadata": {
    "collapsed": false,
    "scrolled": true
   },
   "outputs": [
    {
     "data": {
      "text/plain": [
       "Timestamp('2017-12-31 23:59:59.999999999')"
      ]
     },
     "execution_count": 10,
     "metadata": {},
     "output_type": "execute_result"
    }
   ],
   "source": [
    "m.end_time"
   ]
  },
  {
   "cell_type": "code",
   "execution_count": 11,
   "metadata": {
    "collapsed": false,
    "scrolled": true
   },
   "outputs": [
    {
     "data": {
      "text/plain": [
       "Period('2018-01', 'M')"
      ]
     },
     "execution_count": 11,
     "metadata": {},
     "output_type": "execute_result"
    }
   ],
   "source": [
    "m+1"
   ]
  },
  {
   "cell_type": "markdown",
   "metadata": {},
   "source": [
    "<h3 style=\"color:purple\">Daily Period</h3>"
   ]
  },
  {
   "cell_type": "code",
   "execution_count": 66,
   "metadata": {
    "collapsed": false,
    "scrolled": true
   },
   "outputs": [
    {
     "data": {
      "text/plain": [
       "Period('2016-02-28', 'D')"
      ]
     },
     "execution_count": 66,
     "metadata": {},
     "output_type": "execute_result"
    }
   ],
   "source": [
    "d = pd.Period('2016-02-28', freq='D')\n",
    "d"
   ]
  },
  {
   "cell_type": "code",
   "execution_count": 67,
   "metadata": {
    "collapsed": false,
    "scrolled": true
   },
   "outputs": [
    {
     "data": {
      "text/plain": [
       "Timestamp('2016-02-28 00:00:00')"
      ]
     },
     "execution_count": 67,
     "metadata": {},
     "output_type": "execute_result"
    }
   ],
   "source": [
    "d.start_time"
   ]
  },
  {
   "cell_type": "code",
   "execution_count": 68,
   "metadata": {
    "collapsed": false,
    "scrolled": false
   },
   "outputs": [
    {
     "data": {
      "text/plain": [
       "Timestamp('2016-02-28 23:59:59.999999999')"
      ]
     },
     "execution_count": 68,
     "metadata": {},
     "output_type": "execute_result"
    }
   ],
   "source": [
    "d.end_time"
   ]
  },
  {
   "cell_type": "code",
   "execution_count": 69,
   "metadata": {
    "collapsed": false,
    "scrolled": true
   },
   "outputs": [
    {
     "data": {
      "text/plain": [
       "Period('2016-02-29', 'D')"
      ]
     },
     "execution_count": 69,
     "metadata": {},
     "output_type": "execute_result"
    }
   ],
   "source": [
    "d+1"
   ]
  },
  {
   "cell_type": "markdown",
   "metadata": {},
   "source": [
    "<h3 style=\"color:purple\">Hourly Period</h3>"
   ]
  },
  {
   "cell_type": "code",
   "execution_count": 12,
   "metadata": {
    "collapsed": false,
    "scrolled": true
   },
   "outputs": [
    {
     "name": "stderr",
     "output_type": "stream",
     "text": [
      "C:\\Users\\Anthony\\AppData\\Local\\Temp\\ipykernel_22768\\4112825224.py:1: FutureWarning: 'H' is deprecated and will be removed in a future version, please use 'h' instead.\n",
      "  h = pd.Period('2017-08-15 23:00:00',freq='H')\n"
     ]
    },
    {
     "data": {
      "text/plain": [
       "Period('2017-08-15 23:00', 'h')"
      ]
     },
     "execution_count": 12,
     "metadata": {},
     "output_type": "execute_result"
    }
   ],
   "source": [
    "h = pd.Period('2017-08-15 23:00:00',freq='H')\n",
    "h"
   ]
  },
  {
   "cell_type": "code",
   "execution_count": 13,
   "metadata": {
    "collapsed": false,
    "scrolled": true
   },
   "outputs": [
    {
     "data": {
      "text/plain": [
       "Period('2017-08-16 00:00', 'h')"
      ]
     },
     "execution_count": 13,
     "metadata": {},
     "output_type": "execute_result"
    }
   ],
   "source": [
    "h+1"
   ]
  },
  {
   "cell_type": "markdown",
   "metadata": {},
   "source": [
    "<h4>Obtenga los mismos resultados utilizando las compensaciones horarias de Pandas</h4>"
   ]
  },
  {
   "cell_type": "code",
   "execution_count": 34,
   "metadata": {
    "collapsed": false,
    "scrolled": true
   },
   "outputs": [
    {
     "data": {
      "text/plain": [
       "Period('2017-08-16 00:00', 'H')"
      ]
     },
     "execution_count": 34,
     "metadata": {},
     "output_type": "execute_result"
    }
   ],
   "source": [
    "h+pd.offsets.Hour(1)"
   ]
  },
  {
   "cell_type": "markdown",
   "metadata": {},
   "source": [
    "<h3 style=\"color:purple\">Quarterly Period</h3>"
   ]
  },
  {
   "cell_type": "code",
   "execution_count": 17,
   "metadata": {
    "collapsed": false
   },
   "outputs": [
    {
     "data": {
      "text/plain": [
       "Period('2017Q1', 'Q-FEB')"
      ]
     },
     "execution_count": 17,
     "metadata": {},
     "output_type": "execute_result"
    }
   ],
   "source": [
    "q1= pd.Period('2017Q1', freq='Q-FEB')\n",
    "q1"
   ]
  },
  {
   "cell_type": "code",
   "execution_count": 18,
   "metadata": {
    "collapsed": false
   },
   "outputs": [
    {
     "data": {
      "text/plain": [
       "Timestamp('2016-03-01 00:00:00')"
      ]
     },
     "execution_count": 18,
     "metadata": {},
     "output_type": "execute_result"
    }
   ],
   "source": [
    "q1.start_time"
   ]
  },
  {
   "cell_type": "code",
   "execution_count": 19,
   "metadata": {
    "collapsed": false,
    "scrolled": false
   },
   "outputs": [
    {
     "data": {
      "text/plain": [
       "Timestamp('2016-05-31 23:59:59.999999999')"
      ]
     },
     "execution_count": 19,
     "metadata": {},
     "output_type": "execute_result"
    }
   ],
   "source": [
    "q1.end_time"
   ]
  },
  {
   "cell_type": "markdown",
   "metadata": {},
   "source": [
    "<h4>Utilice asfreq para convertir el período a una frecuencia diferente</h4>"
   ]
  },
  {
   "cell_type": "code",
   "execution_count": 20,
   "metadata": {
    "collapsed": false,
    "scrolled": true
   },
   "outputs": [
    {
     "data": {
      "text/plain": [
       "Period('2016-03', 'M')"
      ]
     },
     "execution_count": 20,
     "metadata": {},
     "output_type": "execute_result"
    }
   ],
   "source": [
    "q1.asfreq('M',how='start')"
   ]
  },
  {
   "cell_type": "code",
   "execution_count": 21,
   "metadata": {
    "collapsed": false
   },
   "outputs": [
    {
     "data": {
      "text/plain": [
       "Period('2016-05', 'M')"
      ]
     },
     "execution_count": 21,
     "metadata": {},
     "output_type": "execute_result"
    }
   ],
   "source": [
    "q1.asfreq('M',how='end')"
   ]
  },
  {
   "cell_type": "markdown",
   "metadata": {},
   "source": [
    "<h3 style=\"color:purple\">Weekly Period</h3>"
   ]
  },
  {
   "cell_type": "code",
   "execution_count": 24,
   "metadata": {
    "collapsed": false,
    "scrolled": true
   },
   "outputs": [
    {
     "data": {
      "text/plain": [
       "Period('2017-07-03/2017-07-09', 'W-SUN')"
      ]
     },
     "execution_count": 24,
     "metadata": {},
     "output_type": "execute_result"
    }
   ],
   "source": [
    "w = pd.Period('2017-07-08',freq='W')\n",
    "w"
   ]
  },
  {
   "cell_type": "code",
   "execution_count": 25,
   "metadata": {
    "collapsed": false
   },
   "outputs": [
    {
     "data": {
      "text/plain": [
       "Period('2017-06-26/2017-07-02', 'W-SUN')"
      ]
     },
     "execution_count": 25,
     "metadata": {},
     "output_type": "execute_result"
    }
   ],
   "source": [
    "w-1"
   ]
  },
  {
   "cell_type": "code",
   "execution_count": 27,
   "metadata": {
    "collapsed": false,
    "scrolled": true
   },
   "outputs": [
    {
     "data": {
      "text/plain": [
       "Period('2017-08-14/2017-08-20', 'W-SUN')"
      ]
     },
     "execution_count": 27,
     "metadata": {},
     "output_type": "execute_result"
    }
   ],
   "source": [
    "w2 = pd.Period('2017-08-17',freq='W')\n",
    "w2"
   ]
  },
  {
   "cell_type": "code",
   "execution_count": 28,
   "metadata": {
    "collapsed": false,
    "scrolled": false
   },
   "outputs": [
    {
     "data": {
      "text/plain": [
       "<6 * Weeks: weekday=6>"
      ]
     },
     "execution_count": 28,
     "metadata": {},
     "output_type": "execute_result"
    }
   ],
   "source": [
    "w2-w"
   ]
  },
  {
   "cell_type": "markdown",
   "metadata": {},
   "source": [
    "<h3 style=\"color:purple\">PeriodIndex and period_range</h3>"
   ]
  },
  {
   "cell_type": "code",
   "execution_count": 30,
   "metadata": {
    "collapsed": false,
    "scrolled": true
   },
   "outputs": [
    {
     "data": {
      "text/plain": [
       "PeriodIndex(['2011Q1', '2011Q2', '2011Q3', '2011Q4', '2012Q1', '2012Q2',\n",
       "             '2012Q3', '2012Q4', '2013Q1', '2013Q2', '2013Q3', '2013Q4',\n",
       "             '2014Q1', '2014Q2', '2014Q3', '2014Q4', '2015Q1', '2015Q2',\n",
       "             '2015Q3', '2015Q4', '2016Q1', '2016Q2', '2016Q3', '2016Q4',\n",
       "             '2017Q1'],\n",
       "            dtype='period[Q-DEC]')"
      ]
     },
     "execution_count": 30,
     "metadata": {},
     "output_type": "execute_result"
    }
   ],
   "source": [
    "r = pd.period_range('2011', '2017', freq='Q')\n",
    "r"
   ]
  },
  {
   "cell_type": "code",
   "execution_count": 31,
   "metadata": {
    "collapsed": false,
    "scrolled": true
   },
   "outputs": [
    {
     "data": {
      "text/plain": [
       "Timestamp('2011-01-01 00:00:00')"
      ]
     },
     "execution_count": 31,
     "metadata": {},
     "output_type": "execute_result"
    }
   ],
   "source": [
    "r[0].start_time"
   ]
  },
  {
   "cell_type": "code",
   "execution_count": 32,
   "metadata": {
    "collapsed": false
   },
   "outputs": [
    {
     "data": {
      "text/plain": [
       "Timestamp('2011-03-31 23:59:59.999999999')"
      ]
     },
     "execution_count": 32,
     "metadata": {},
     "output_type": "execute_result"
    }
   ],
   "source": [
    "r[0].end_time"
   ]
  },
  {
   "cell_type": "markdown",
   "metadata": {},
   "source": [
    "**El año fiscal de Walmart termina en enero, a continuación se muestra cómo se generan los trimestres fiscales de Walmart entre 2011 y 2017**"
   ]
  },
  {
   "cell_type": "code",
   "execution_count": 37,
   "metadata": {
    "collapsed": false
   },
   "outputs": [
    {
     "name": "stderr",
     "output_type": "stream",
     "text": [
      "C:\\Users\\Anthony\\AppData\\Local\\Temp\\ipykernel_22768\\766881672.py:1: FutureWarning: 'q-dec' is deprecated and will be removed in a future version, please use 'Q-DEC' instead.\n",
      "  r = pd.period_range('2011', '2017', freq='q-dec')\n"
     ]
    },
    {
     "data": {
      "text/plain": [
       "PeriodIndex(['2011Q1', '2011Q2', '2011Q3', '2011Q4', '2012Q1', '2012Q2',\n",
       "             '2012Q3', '2012Q4', '2013Q1', '2013Q2', '2013Q3', '2013Q4',\n",
       "             '2014Q1', '2014Q2', '2014Q3', '2014Q4', '2015Q1', '2015Q2',\n",
       "             '2015Q3', '2015Q4', '2016Q1', '2016Q2', '2016Q3', '2016Q4',\n",
       "             '2017Q1'],\n",
       "            dtype='period[Q-DEC]')"
      ]
     },
     "execution_count": 37,
     "metadata": {},
     "output_type": "execute_result"
    }
   ],
   "source": [
    "r = pd.period_range('2011', '2017', freq='q-dec')\n",
    "r"
   ]
  },
  {
   "cell_type": "code",
   "execution_count": 33,
   "metadata": {
    "collapsed": false
   },
   "outputs": [
    {
     "data": {
      "text/plain": [
       "Timestamp('2011-01-01 00:00:00')"
      ]
     },
     "execution_count": 33,
     "metadata": {},
     "output_type": "execute_result"
    }
   ],
   "source": [
    "r[0].start_time"
   ]
  },
  {
   "cell_type": "code",
   "execution_count": 34,
   "metadata": {
    "collapsed": false,
    "scrolled": true
   },
   "outputs": [
    {
     "data": {
      "text/plain": [
       "Timestamp('2011-03-31 23:59:59.999999999')"
      ]
     },
     "execution_count": 34,
     "metadata": {},
     "output_type": "execute_result"
    }
   ],
   "source": [
    "r[0].end_time"
   ]
  },
  {
   "cell_type": "code",
   "execution_count": 9,
   "metadata": {
    "collapsed": false,
    "scrolled": false
   },
   "outputs": [
    {
     "data": {
      "text/plain": [
       "PeriodIndex(['2016-01', '2016-04', '2016-07', '2016-10', '2017-01', '2017-04',\n",
       "             '2017-07', '2017-10', '2018-01', '2018-04'],\n",
       "            dtype='period[3M]')"
      ]
     },
     "execution_count": 9,
     "metadata": {},
     "output_type": "execute_result"
    }
   ],
   "source": [
    "r = pd.period_range(start=\"2016-01\",freq='3M',periods=10)\n",
    "r"
   ]
  },
  {
   "cell_type": "code",
   "execution_count": 56,
   "metadata": {
    "collapsed": false,
    "scrolled": false
   },
   "outputs": [
    {
     "data": {
      "text/plain": [
       "2016-01   -0.607785\n",
       "2016-04   -0.018118\n",
       "2016-07    0.211759\n",
       "2016-10   -0.169888\n",
       "2017-01   -0.012162\n",
       "2017-04    0.881068\n",
       "2017-07   -0.169787\n",
       "2017-10    0.600402\n",
       "2018-01   -0.298970\n",
       "2018-04    0.744659\n",
       "Freq: 3M, dtype: float64"
      ]
     },
     "execution_count": 56,
     "metadata": {},
     "output_type": "execute_result"
    }
   ],
   "source": [
    "import numpy as np\n",
    "ps = pd.Series(np.random.randn(len(r)), r)\n",
    "ps"
   ]
  },
  {
   "cell_type": "markdown",
   "metadata": {},
   "source": [
    "<h4>Indexación parcial</h4>"
   ]
  },
  {
   "cell_type": "code",
   "execution_count": 57,
   "metadata": {
    "collapsed": false,
    "scrolled": true
   },
   "outputs": [
    {
     "data": {
      "text/plain": [
       "2016-01   -0.607785\n",
       "2016-04   -0.018118\n",
       "2016-07    0.211759\n",
       "2016-10   -0.169888\n",
       "Freq: 3M, dtype: float64"
      ]
     },
     "execution_count": 57,
     "metadata": {},
     "output_type": "execute_result"
    }
   ],
   "source": [
    "ps['2016']"
   ]
  },
  {
   "cell_type": "code",
   "execution_count": 58,
   "metadata": {
    "collapsed": false,
    "scrolled": false
   },
   "outputs": [
    {
     "data": {
      "text/plain": [
       "2016-01   -0.607785\n",
       "2016-04   -0.018118\n",
       "2016-07    0.211759\n",
       "2016-10   -0.169888\n",
       "2017-01   -0.012162\n",
       "2017-04    0.881068\n",
       "2017-07   -0.169787\n",
       "2017-10    0.600402\n",
       "Freq: 3M, dtype: float64"
      ]
     },
     "execution_count": 58,
     "metadata": {},
     "output_type": "execute_result"
    }
   ],
   "source": [
    "ps['2016':'2017']"
   ]
  },
  {
   "cell_type": "markdown",
   "metadata": {},
   "source": [
    "<h4>Conversión entre representaciones</h4>"
   ]
  },
  {
   "cell_type": "code",
   "execution_count": 59,
   "metadata": {
    "collapsed": false
   },
   "outputs": [
    {
     "data": {
      "text/plain": [
       "2016-01-01   -0.607785\n",
       "2016-04-01   -0.018118\n",
       "2016-07-01    0.211759\n",
       "2016-10-01   -0.169888\n",
       "2017-01-01   -0.012162\n",
       "2017-04-01    0.881068\n",
       "2017-07-01   -0.169787\n",
       "2017-10-01    0.600402\n",
       "2018-01-01   -0.298970\n",
       "2018-04-01    0.744659\n",
       "Freq: QS-OCT, dtype: float64"
      ]
     },
     "execution_count": 59,
     "metadata": {},
     "output_type": "execute_result"
    }
   ],
   "source": [
    "pst = ps.to_timestamp()\n",
    "pst"
   ]
  },
  {
   "cell_type": "code",
   "execution_count": 60,
   "metadata": {
    "collapsed": false
   },
   "outputs": [
    {
     "data": {
      "text/plain": [
       "DatetimeIndex(['2016-01-01', '2016-04-01', '2016-07-01', '2016-10-01',\n",
       "               '2017-01-01', '2017-04-01', '2017-07-01', '2017-10-01',\n",
       "               '2018-01-01', '2018-04-01'],\n",
       "              dtype='datetime64[ns]', freq='QS-OCT')"
      ]
     },
     "execution_count": 60,
     "metadata": {},
     "output_type": "execute_result"
    }
   ],
   "source": [
    "pst.index"
   ]
  },
  {
   "cell_type": "code",
   "execution_count": 61,
   "metadata": {
    "collapsed": false
   },
   "outputs": [
    {
     "data": {
      "text/plain": [
       "2016Q1   -0.607785\n",
       "2016Q2   -0.018118\n",
       "2016Q3    0.211759\n",
       "2016Q4   -0.169888\n",
       "2017Q1   -0.012162\n",
       "2017Q2    0.881068\n",
       "2017Q3   -0.169787\n",
       "2017Q4    0.600402\n",
       "2018Q1   -0.298970\n",
       "2018Q2    0.744659\n",
       "Freq: Q-DEC, dtype: float64"
      ]
     },
     "execution_count": 61,
     "metadata": {},
     "output_type": "execute_result"
    }
   ],
   "source": [
    "ps = pst.to_period()\n",
    "ps"
   ]
  },
  {
   "cell_type": "code",
   "execution_count": 62,
   "metadata": {
    "collapsed": false
   },
   "outputs": [
    {
     "data": {
      "text/plain": [
       "PeriodIndex(['2016Q1', '2016Q2', '2016Q3', '2016Q4', '2017Q1', '2017Q2',\n",
       "             '2017Q3', '2017Q4', '2018Q1', '2018Q2'],\n",
       "            dtype='period[Q-DEC]')"
      ]
     },
     "execution_count": 62,
     "metadata": {},
     "output_type": "execute_result"
    }
   ],
   "source": [
    "ps.index"
   ]
  },
  {
   "cell_type": "markdown",
   "metadata": {},
   "source": [
    "<h3 style=\"color:purple\">Procesamiento de las finanzas de Wal-Mart</h3>"
   ]
  },
  {
   "cell_type": "code",
   "execution_count": 15,
   "metadata": {
    "collapsed": false,
    "scrolled": true
   },
   "outputs": [
    {
     "data": {
      "text/html": [
       "<div>\n",
       "<style scoped>\n",
       "    .dataframe tbody tr th:only-of-type {\n",
       "        vertical-align: middle;\n",
       "    }\n",
       "\n",
       "    .dataframe tbody tr th {\n",
       "        vertical-align: top;\n",
       "    }\n",
       "\n",
       "    .dataframe thead th {\n",
       "        text-align: right;\n",
       "    }\n",
       "</style>\n",
       "<table border=\"1\" class=\"dataframe\">\n",
       "  <thead>\n",
       "    <tr style=\"text-align: right;\">\n",
       "      <th></th>\n",
       "      <th>Line Item</th>\n",
       "      <th>2017Q2</th>\n",
       "      <th>2017Q3</th>\n",
       "      <th>2017Q4</th>\n",
       "      <th>2017Q1</th>\n",
       "      <th>2018Q2</th>\n",
       "    </tr>\n",
       "  </thead>\n",
       "  <tbody>\n",
       "    <tr>\n",
       "      <th>0</th>\n",
       "      <td>Revenue</td>\n",
       "      <td>115904</td>\n",
       "      <td>120854</td>\n",
       "      <td>118179</td>\n",
       "      <td>130936</td>\n",
       "      <td>117542</td>\n",
       "    </tr>\n",
       "    <tr>\n",
       "      <th>1</th>\n",
       "      <td>Expenses</td>\n",
       "      <td>86544</td>\n",
       "      <td>89485</td>\n",
       "      <td>87484</td>\n",
       "      <td>97743</td>\n",
       "      <td>87688</td>\n",
       "    </tr>\n",
       "    <tr>\n",
       "      <th>2</th>\n",
       "      <td>Profit</td>\n",
       "      <td>29360</td>\n",
       "      <td>31369</td>\n",
       "      <td>30695</td>\n",
       "      <td>33193</td>\n",
       "      <td>29854</td>\n",
       "    </tr>\n",
       "  </tbody>\n",
       "</table>\n",
       "</div>"
      ],
      "text/plain": [
       "  Line Item  2017Q2  2017Q3  2017Q4  2017Q1  2018Q2\n",
       "0   Revenue  115904  120854  118179  130936  117542\n",
       "1  Expenses   86544   89485   87484   97743   87688\n",
       "2    Profit   29360   31369   30695   33193   29854"
      ]
     },
     "execution_count": 15,
     "metadata": {},
     "output_type": "execute_result"
    }
   ],
   "source": [
    "import pandas as pd\n",
    "df = pd.read_csv(\"wmt.csv\")\n",
    "df"
   ]
  },
  {
   "cell_type": "code",
   "execution_count": 16,
   "metadata": {
    "collapsed": false,
    "scrolled": true
   },
   "outputs": [
    {
     "data": {
      "text/html": [
       "<div>\n",
       "<style scoped>\n",
       "    .dataframe tbody tr th:only-of-type {\n",
       "        vertical-align: middle;\n",
       "    }\n",
       "\n",
       "    .dataframe tbody tr th {\n",
       "        vertical-align: top;\n",
       "    }\n",
       "\n",
       "    .dataframe thead th {\n",
       "        text-align: right;\n",
       "    }\n",
       "</style>\n",
       "<table border=\"1\" class=\"dataframe\">\n",
       "  <thead>\n",
       "    <tr style=\"text-align: right;\">\n",
       "      <th>Line Item</th>\n",
       "      <th>Revenue</th>\n",
       "      <th>Expenses</th>\n",
       "      <th>Profit</th>\n",
       "    </tr>\n",
       "  </thead>\n",
       "  <tbody>\n",
       "    <tr>\n",
       "      <th>2017Q2</th>\n",
       "      <td>115904</td>\n",
       "      <td>86544</td>\n",
       "      <td>29360</td>\n",
       "    </tr>\n",
       "    <tr>\n",
       "      <th>2017Q3</th>\n",
       "      <td>120854</td>\n",
       "      <td>89485</td>\n",
       "      <td>31369</td>\n",
       "    </tr>\n",
       "    <tr>\n",
       "      <th>2017Q4</th>\n",
       "      <td>118179</td>\n",
       "      <td>87484</td>\n",
       "      <td>30695</td>\n",
       "    </tr>\n",
       "    <tr>\n",
       "      <th>2017Q1</th>\n",
       "      <td>130936</td>\n",
       "      <td>97743</td>\n",
       "      <td>33193</td>\n",
       "    </tr>\n",
       "    <tr>\n",
       "      <th>2018Q2</th>\n",
       "      <td>117542</td>\n",
       "      <td>87688</td>\n",
       "      <td>29854</td>\n",
       "    </tr>\n",
       "  </tbody>\n",
       "</table>\n",
       "</div>"
      ],
      "text/plain": [
       "Line Item  Revenue  Expenses  Profit\n",
       "2017Q2      115904     86544   29360\n",
       "2017Q3      120854     89485   31369\n",
       "2017Q4      118179     87484   30695\n",
       "2017Q1      130936     97743   33193\n",
       "2018Q2      117542     87688   29854"
      ]
     },
     "execution_count": 16,
     "metadata": {},
     "output_type": "execute_result"
    }
   ],
   "source": [
    "df.set_index(\"Line Item\",inplace=True)\n",
    "df = df.T\n",
    "df"
   ]
  },
  {
   "cell_type": "code",
   "execution_count": 17,
   "metadata": {
    "collapsed": false,
    "scrolled": true
   },
   "outputs": [
    {
     "data": {
      "text/html": [
       "<div>\n",
       "<style scoped>\n",
       "    .dataframe tbody tr th:only-of-type {\n",
       "        vertical-align: middle;\n",
       "    }\n",
       "\n",
       "    .dataframe tbody tr th {\n",
       "        vertical-align: top;\n",
       "    }\n",
       "\n",
       "    .dataframe thead th {\n",
       "        text-align: right;\n",
       "    }\n",
       "</style>\n",
       "<table border=\"1\" class=\"dataframe\">\n",
       "  <thead>\n",
       "    <tr style=\"text-align: right;\">\n",
       "      <th>Line Item</th>\n",
       "      <th>Revenue</th>\n",
       "      <th>Expenses</th>\n",
       "      <th>Profit</th>\n",
       "    </tr>\n",
       "  </thead>\n",
       "  <tbody>\n",
       "    <tr>\n",
       "      <th>2017Q2</th>\n",
       "      <td>115904</td>\n",
       "      <td>86544</td>\n",
       "      <td>29360</td>\n",
       "    </tr>\n",
       "    <tr>\n",
       "      <th>2017Q3</th>\n",
       "      <td>120854</td>\n",
       "      <td>89485</td>\n",
       "      <td>31369</td>\n",
       "    </tr>\n",
       "    <tr>\n",
       "      <th>2017Q4</th>\n",
       "      <td>118179</td>\n",
       "      <td>87484</td>\n",
       "      <td>30695</td>\n",
       "    </tr>\n",
       "    <tr>\n",
       "      <th>2017Q1</th>\n",
       "      <td>130936</td>\n",
       "      <td>97743</td>\n",
       "      <td>33193</td>\n",
       "    </tr>\n",
       "    <tr>\n",
       "      <th>2018Q2</th>\n",
       "      <td>117542</td>\n",
       "      <td>87688</td>\n",
       "      <td>29854</td>\n",
       "    </tr>\n",
       "  </tbody>\n",
       "</table>\n",
       "</div>"
      ],
      "text/plain": [
       "Line Item  Revenue  Expenses  Profit\n",
       "2017Q2      115904     86544   29360\n",
       "2017Q3      120854     89485   31369\n",
       "2017Q4      118179     87484   30695\n",
       "2017Q1      130936     97743   33193\n",
       "2018Q2      117542     87688   29854"
      ]
     },
     "execution_count": 17,
     "metadata": {},
     "output_type": "execute_result"
    }
   ],
   "source": [
    "df.index = pd.PeriodIndex(df.index, freq=\"Q-JAN\")\n",
    "df"
   ]
  },
  {
   "cell_type": "code",
   "execution_count": 18,
   "metadata": {
    "collapsed": false
   },
   "outputs": [
    {
     "data": {
      "text/plain": [
       "PeriodIndex(['2017Q2', '2017Q3', '2017Q4', '2017Q1', '2018Q2'], dtype='period[Q-JAN]')"
      ]
     },
     "execution_count": 18,
     "metadata": {},
     "output_type": "execute_result"
    }
   ],
   "source": [
    "df.index"
   ]
  },
  {
   "cell_type": "code",
   "execution_count": 19,
   "metadata": {
    "collapsed": false,
    "scrolled": false
   },
   "outputs": [
    {
     "data": {
      "text/plain": [
       "Timestamp('2016-05-01 00:00:00')"
      ]
     },
     "execution_count": 19,
     "metadata": {},
     "output_type": "execute_result"
    }
   ],
   "source": [
    "df.index[0].start_time"
   ]
  },
  {
   "cell_type": "markdown",
   "metadata": {},
   "source": [
    "<h4 style=\"color:green\">Agregar columnas de fecha de inicio y fecha de finalización al marco de datos</h4>"
   ]
  },
  {
   "cell_type": "code",
   "execution_count": null,
   "metadata": {},
   "outputs": [],
   "source": []
  },
  {
   "cell_type": "code",
   "execution_count": 20,
   "metadata": {
    "collapsed": false
   },
   "outputs": [
    {
     "data": {
      "text/html": [
       "<div>\n",
       "<style scoped>\n",
       "    .dataframe tbody tr th:only-of-type {\n",
       "        vertical-align: middle;\n",
       "    }\n",
       "\n",
       "    .dataframe tbody tr th {\n",
       "        vertical-align: top;\n",
       "    }\n",
       "\n",
       "    .dataframe thead th {\n",
       "        text-align: right;\n",
       "    }\n",
       "</style>\n",
       "<table border=\"1\" class=\"dataframe\">\n",
       "  <thead>\n",
       "    <tr style=\"text-align: right;\">\n",
       "      <th>Line Item</th>\n",
       "      <th>Revenue</th>\n",
       "      <th>Expenses</th>\n",
       "      <th>Profit</th>\n",
       "      <th>Start Date</th>\n",
       "    </tr>\n",
       "  </thead>\n",
       "  <tbody>\n",
       "    <tr>\n",
       "      <th>2017Q2</th>\n",
       "      <td>115904</td>\n",
       "      <td>86544</td>\n",
       "      <td>29360</td>\n",
       "      <td>2016-05-01</td>\n",
       "    </tr>\n",
       "    <tr>\n",
       "      <th>2017Q3</th>\n",
       "      <td>120854</td>\n",
       "      <td>89485</td>\n",
       "      <td>31369</td>\n",
       "      <td>2016-08-01</td>\n",
       "    </tr>\n",
       "    <tr>\n",
       "      <th>2017Q4</th>\n",
       "      <td>118179</td>\n",
       "      <td>87484</td>\n",
       "      <td>30695</td>\n",
       "      <td>2016-11-01</td>\n",
       "    </tr>\n",
       "    <tr>\n",
       "      <th>2017Q1</th>\n",
       "      <td>130936</td>\n",
       "      <td>97743</td>\n",
       "      <td>33193</td>\n",
       "      <td>2016-02-01</td>\n",
       "    </tr>\n",
       "    <tr>\n",
       "      <th>2018Q2</th>\n",
       "      <td>117542</td>\n",
       "      <td>87688</td>\n",
       "      <td>29854</td>\n",
       "      <td>2017-05-01</td>\n",
       "    </tr>\n",
       "  </tbody>\n",
       "</table>\n",
       "</div>"
      ],
      "text/plain": [
       "Line Item  Revenue  Expenses  Profit Start Date\n",
       "2017Q2      115904     86544   29360 2016-05-01\n",
       "2017Q3      120854     89485   31369 2016-08-01\n",
       "2017Q4      118179     87484   30695 2016-11-01\n",
       "2017Q1      130936     97743   33193 2016-02-01\n",
       "2018Q2      117542     87688   29854 2017-05-01"
      ]
     },
     "execution_count": 20,
     "metadata": {},
     "output_type": "execute_result"
    }
   ],
   "source": [
    "df[\"Start Date\"]=df.index.map(lambda x: x.start_time)\n",
    "df"
   ]
  },
  {
   "cell_type": "code",
   "execution_count": 82,
   "metadata": {
    "collapsed": false
   },
   "outputs": [
    {
     "data": {
      "text/html": [
       "<div>\n",
       "<style scoped>\n",
       "    .dataframe tbody tr th:only-of-type {\n",
       "        vertical-align: middle;\n",
       "    }\n",
       "\n",
       "    .dataframe tbody tr th {\n",
       "        vertical-align: top;\n",
       "    }\n",
       "\n",
       "    .dataframe thead th {\n",
       "        text-align: right;\n",
       "    }\n",
       "</style>\n",
       "<table border=\"1\" class=\"dataframe\">\n",
       "  <thead>\n",
       "    <tr style=\"text-align: right;\">\n",
       "      <th>Line Item</th>\n",
       "      <th>Revenue</th>\n",
       "      <th>Expenses</th>\n",
       "      <th>Profit</th>\n",
       "      <th>Start Date</th>\n",
       "      <th>End Date</th>\n",
       "    </tr>\n",
       "  </thead>\n",
       "  <tbody>\n",
       "    <tr>\n",
       "      <th>2017Q1</th>\n",
       "      <td>115904</td>\n",
       "      <td>86544</td>\n",
       "      <td>29360</td>\n",
       "      <td>2016-02-01</td>\n",
       "      <td>2016-04-30 23:59:59.999999999</td>\n",
       "    </tr>\n",
       "    <tr>\n",
       "      <th>2017Q2</th>\n",
       "      <td>120854</td>\n",
       "      <td>89485</td>\n",
       "      <td>31369</td>\n",
       "      <td>2016-05-01</td>\n",
       "      <td>2016-07-31 23:59:59.999999999</td>\n",
       "    </tr>\n",
       "    <tr>\n",
       "      <th>2017Q3</th>\n",
       "      <td>118179</td>\n",
       "      <td>87484</td>\n",
       "      <td>30695</td>\n",
       "      <td>2016-08-01</td>\n",
       "      <td>2016-10-31 23:59:59.999999999</td>\n",
       "    </tr>\n",
       "    <tr>\n",
       "      <th>2017Q4</th>\n",
       "      <td>130936</td>\n",
       "      <td>97743</td>\n",
       "      <td>33193</td>\n",
       "      <td>2016-11-01</td>\n",
       "      <td>2017-01-31 23:59:59.999999999</td>\n",
       "    </tr>\n",
       "    <tr>\n",
       "      <th>2018Q1</th>\n",
       "      <td>117542</td>\n",
       "      <td>87688</td>\n",
       "      <td>29854</td>\n",
       "      <td>2017-02-01</td>\n",
       "      <td>2017-04-30 23:59:59.999999999</td>\n",
       "    </tr>\n",
       "  </tbody>\n",
       "</table>\n",
       "</div>"
      ],
      "text/plain": [
       "Line Item  Revenue  Expenses  Profit Start Date                      End Date\n",
       "2017Q1      115904     86544   29360 2016-02-01 2016-04-30 23:59:59.999999999\n",
       "2017Q2      120854     89485   31369 2016-05-01 2016-07-31 23:59:59.999999999\n",
       "2017Q3      118179     87484   30695 2016-08-01 2016-10-31 23:59:59.999999999\n",
       "2017Q4      130936     97743   33193 2016-11-01 2017-01-31 23:59:59.999999999\n",
       "2018Q1      117542     87688   29854 2017-02-01 2017-04-30 23:59:59.999999999"
      ]
     },
     "execution_count": 82,
     "metadata": {},
     "output_type": "execute_result"
    }
   ],
   "source": [
    "df[\"End Date\"]=df.index.map(lambda x: x.end_time)\n",
    "df"
   ]
  }
 ],
 "metadata": {
  "anaconda-cloud": {},
  "kernelspec": {
   "display_name": "Python 3",
   "language": "python",
   "name": "python3"
  },
  "language_info": {
   "codemirror_mode": {
    "name": "ipython",
    "version": 3
   },
   "file_extension": ".py",
   "mimetype": "text/x-python",
   "name": "python",
   "nbconvert_exporter": "python",
   "pygments_lexer": "ipython3",
   "version": "3.13.7"
  }
 },
 "nbformat": 4,
 "nbformat_minor": 2
}
