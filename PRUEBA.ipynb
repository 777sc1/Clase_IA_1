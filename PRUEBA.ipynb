{
 "cells": [
  {
   "cell_type": "code",
   "execution_count": 3,
   "id": "a5b27798",
   "metadata": {},
   "outputs": [
    {
     "name": "stdout",
     "output_type": "stream",
     "text": [
      "hola\n",
      "x3x3x3\n"
     ]
    }
   ],
   "source": [
    "print(\"hola\")\n",
    "print(\"x3\"*3)"
   ]
  },
  {
   "cell_type": "code",
   "execution_count": 4,
   "id": "818a9e03",
   "metadata": {},
   "outputs": [
    {
     "name": "stdout",
     "output_type": "stream",
     "text": [
      "o\n",
      "xxxxxHolaxxxxx\n"
     ]
    }
   ],
   "source": [
    "print(\"o\")\n",
    "print(f\"{\"x\"*5}Hola{\"x\"*5}\")"
   ]
  }
 ],
 "metadata": {
  "kernelspec": {
   "display_name": "Python 3",
   "language": "python",
   "name": "python3"
  },
  "language_info": {
   "codemirror_mode": {
    "name": "ipython",
    "version": 3
   },
   "file_extension": ".py",
   "mimetype": "text/x-python",
   "name": "python",
   "nbconvert_exporter": "python",
   "pygments_lexer": "ipython3",
   "version": "3.13.5"
  }
 },
 "nbformat": 4,
 "nbformat_minor": 5
}
